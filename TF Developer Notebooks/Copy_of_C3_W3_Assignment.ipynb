{
  "nbformat": 4,
  "nbformat_minor": 0,
  "metadata": {
    "accelerator": "GPU",
    "colab": {
      "name": "Copy of C3_W3_Assignment.ipynb",
      "provenance": [],
      "collapsed_sections": [],
      "toc_visible": true
    },
    "kernelspec": {
      "display_name": "Python 3",
      "language": "python",
      "name": "python3"
    },
    "language_info": {
      "codemirror_mode": {
        "name": "ipython",
        "version": 3
      },
      "file_extension": ".py",
      "mimetype": "text/x-python",
      "name": "python",
      "nbconvert_exporter": "python",
      "pygments_lexer": "ipython3",
      "version": "3.8.5"
    }
  },
  "cells": [
    {
      "cell_type": "code",
      "metadata": {
        "id": "zX4Kg8DUTKWO"
      },
      "source": [
        "#@title Licensed under the Apache License, Version 2.0 (the \"License\");\n",
        "# you may not use this file except in compliance with the License.\n",
        "# You may obtain a copy of the License at\n",
        "#\n",
        "# https://www.apache.org/licenses/LICENSE-2.0\n",
        "#\n",
        "# Unless required by applicable law or agreed to in writing, software\n",
        "# distributed under the License is distributed on an \"AS IS\" BASIS,\n",
        "# WITHOUT WARRANTIES OR CONDITIONS OF ANY KIND, either express or implied.\n",
        "# See the License for the specific language governing permissions and\n",
        "# limitations under the License."
      ],
      "execution_count": null,
      "outputs": []
    },
    {
      "cell_type": "markdown",
      "metadata": {
        "id": "gnU1TV9kV5f9"
      },
      "source": [
        "**Note:** This notebook can run using TensorFlow 2.5.0"
      ]
    },
    {
      "cell_type": "code",
      "metadata": {
        "id": "qTZDRvo5V5f9"
      },
      "source": [
        "#!pip install tensorflow==2.5.0"
      ],
      "execution_count": null,
      "outputs": []
    },
    {
      "cell_type": "markdown",
      "source": [
        "## Trial 1"
      ],
      "metadata": {
        "id": "qM9P3mxBYt5z"
      }
    },
    {
      "cell_type": "code",
      "metadata": {
        "id": "hmA6EzkQJ5jt"
      },
      "source": [
        "import json\n",
        "import tensorflow as tf\n",
        "import csv\n",
        "import random\n",
        "import numpy as np\n",
        "\n",
        "from tensorflow.keras.preprocessing.text import Tokenizer\n",
        "from tensorflow.keras.preprocessing.sequence import pad_sequences\n",
        "from tensorflow.keras.utils import to_categorical\n",
        "from tensorflow.keras import regularizers\n",
        "\n",
        "\n",
        "embedding_dim = 100\n",
        "max_length = 16\n",
        "trunc_type='post'\n",
        "padding_type='post'\n",
        "oov_tok = \"<OOV>\"\n",
        "training_size= 10000 #Your dataset size here. Experiment using smaller values (i.e. 16000), but don't forget to train on at least 160000 to see the best effects\n",
        "test_portion=.1\n",
        "\n",
        "corpus = []\n"
      ],
      "execution_count": null,
      "outputs": []
    },
    {
      "cell_type": "code",
      "metadata": {
        "id": "bM0l_dORKqE0",
        "colab": {
          "base_uri": "https://localhost:8080/"
        },
        "outputId": "721c581c-1651-4116-b4c6-5629008242c4"
      },
      "source": [
        "# Note that I cleaned the Stanford dataset to remove LATIN1 encoding to make it easier for Python CSV reader\n",
        "# You can do that yourself with:\n",
        "# iconv -f LATIN1 -t UTF8 training.1600000.processed.noemoticon.csv -o training_cleaned.csv\n",
        "\n",
        "# training_cleaned.csv\n",
        "!gdown --id 1wd8KaeCSHxt-nEpMeuHFSNWrDp8joUXJ\n",
        "\n",
        "num_sentences = 0\n",
        "\n",
        "with open(\"./training_cleaned.csv\") as csvfile:\n",
        "    reader = csv.reader(csvfile, delimiter=',')\n",
        "    for row in reader:\n",
        "        list_item=[]\n",
        "        \n",
        "        ### START CODE HERE\n",
        "        list_item.append(row[5])\n",
        "        label_val = 0 if row[0] == '0' else 1\n",
        "        list_item.append(label_val)\n",
        "        #Create list items where the first item is the text, found in row[5], and the second is the label. Note that the label is a '0' or a '4' in the text. When it's the former, make\n",
        "        # your label to be 0, otherwise 1. Keep a count of the number of sentences in num_sentences\n",
        "        ### END CODE HERE\n",
        "        \n",
        "        num_sentences = num_sentences + 1\n",
        "        corpus.append(list_item)\n"
      ],
      "execution_count": null,
      "outputs": [
        {
          "output_type": "stream",
          "name": "stdout",
          "text": [
            "Downloading...\n",
            "From: https://drive.google.com/uc?id=1wd8KaeCSHxt-nEpMeuHFSNWrDp8joUXJ\n",
            "To: /content/training_cleaned.csv\n",
            "100% 239M/239M [00:03<00:00, 63.6MB/s]\n"
          ]
        }
      ]
    },
    {
      "cell_type": "code",
      "metadata": {
        "id": "3kxblBUjEUX-",
        "colab": {
          "base_uri": "https://localhost:8080/"
        },
        "outputId": "63e8cb64-c3bd-4bf0-cecb-2bdc97a96282"
      },
      "source": [
        "print(num_sentences)\n",
        "print(len(corpus))\n",
        "print(corpus[1])\n",
        "\n",
        "# Expected Output:\n",
        "# 1600000\n",
        "# 1600000\n",
        "# [\"is upset that he can't update his Facebook by texting it... and might cry as a result  School today also. Blah!\", 0]"
      ],
      "execution_count": null,
      "outputs": [
        {
          "output_type": "stream",
          "name": "stdout",
          "text": [
            "1600000\n",
            "1600000\n",
            "[\"is upset that he can't update his Facebook by texting it... and might cry as a result  School today also. Blah!\", 0]\n"
          ]
        }
      ]
    },
    {
      "cell_type": "code",
      "metadata": {
        "id": "ohOGz24lsNAD"
      },
      "source": [
        "sentences=[]\n",
        "labels=[]\n",
        "random.shuffle(corpus)\n",
        "for x in range(training_size):\n",
        "    sentences.append(corpus[x][0])\n",
        "    labels.append(corpus[x][1])\n",
        "\n",
        "\n",
        "tokenizer = Tokenizer()\n",
        "tokenizer.fit_on_texts(sentences)\n",
        "\n",
        "word_index = tokenizer.word_index\n",
        "vocab_size=len(word_index)\n",
        "\n",
        "sequences = tokenizer.texts_to_sequences(sentences)\n",
        "padded = pad_sequences(sequences, maxlen=max_length, padding = padding_type, truncating=trunc_type)\n",
        "\n",
        "split = int(test_portion * training_size)\n",
        "\n",
        "test_sequences = padded[:split]\n",
        "training_sequences = padded[split:]\n",
        "test_labels = labels[:split]\n",
        "training_labels = labels[split:]"
      ],
      "execution_count": null,
      "outputs": []
    },
    {
      "cell_type": "code",
      "source": [
        "set(labels)"
      ],
      "metadata": {
        "colab": {
          "base_uri": "https://localhost:8080/"
        },
        "id": "_teqSbkwZMaP",
        "outputId": "299c1f61-d660-45e3-9abb-cb0e865a19cb"
      },
      "execution_count": null,
      "outputs": [
        {
          "output_type": "execute_result",
          "data": {
            "text/plain": [
              "{0, 1}"
            ]
          },
          "metadata": {},
          "execution_count": 5
        }
      ]
    },
    {
      "cell_type": "code",
      "metadata": {
        "id": "gIrtRem1En3N",
        "colab": {
          "base_uri": "https://localhost:8080/"
        },
        "outputId": "98082fbc-9b0f-4bd8-a016-770119ddfe3c"
      },
      "source": [
        "print(vocab_size)\n",
        "print(word_index['i'])\n",
        "# Expected Output\n",
        "# 138856\n",
        "# 1"
      ],
      "execution_count": null,
      "outputs": [
        {
          "output_type": "stream",
          "name": "stdout",
          "text": [
            "19226\n",
            "1\n"
          ]
        }
      ]
    },
    {
      "cell_type": "code",
      "metadata": {
        "id": "C1zdgJkusRh0",
        "colab": {
          "base_uri": "https://localhost:8080/"
        },
        "outputId": "6553283d-0418-4e5b-88f9-7631a6324536"
      },
      "source": [
        "# Note this is the 100 dimension version of GloVe from Stanford\n",
        "\n",
        "# glove.6B.100d.txt\n",
        "!gdown --id 1W5vZy2etitAblLdFn8_DxnsQKzfFJ98g\n",
        "\n",
        "embeddings_index = {};\n",
        "with open('./glove.6B.100d.txt') as f:\n",
        "    for line in f:\n",
        "        values = line.split();\n",
        "        word = values[0];\n",
        "        coefs = np.asarray(values[1:], dtype='float32');\n",
        "        embeddings_index[word] = coefs;\n",
        "\n",
        "embeddings_matrix = np.zeros((vocab_size+1, embedding_dim));\n",
        "for word, i in word_index.items():\n",
        "    embedding_vector = embeddings_index.get(word);\n",
        "    if embedding_vector is not None:\n",
        "        embeddings_matrix[i] = embedding_vector;"
      ],
      "execution_count": null,
      "outputs": [
        {
          "output_type": "stream",
          "name": "stdout",
          "text": [
            "Downloading...\n",
            "From: https://drive.google.com/uc?id=1W5vZy2etitAblLdFn8_DxnsQKzfFJ98g\n",
            "To: /content/glove.6B.100d.txt\n",
            " 29% 99.6M/347M [00:01<00:02, 89.5MB/s]"
          ]
        }
      ]
    },
    {
      "cell_type": "code",
      "metadata": {
        "id": "71NLk_lpFLNt"
      },
      "source": [
        "print(len(embeddings_matrix))\n",
        "# Expected Output\n",
        "# 138857"
      ],
      "execution_count": null,
      "outputs": []
    },
    {
      "cell_type": "code",
      "metadata": {
        "id": "iKKvbuEBOGFz"
      },
      "source": [
        "model = tf.keras.Sequential([\n",
        "    tf.keras.layers.Embedding(vocab_size+1, embedding_dim, input_length=max_length, weights=[embeddings_matrix], trainable=False),\n",
        "    tf.keras.layers.Conv1D(64, 5, activation='relu'),\n",
        "    tf.keras.layers.LSTM(64),\n",
        "    tf.keras.layers.Dense(1, activation='sigmoid')\n",
        "    # YOUR CODE HERE - experiment with combining different types, such as convolutions and LSTMs\n",
        "])\n",
        "model.compile(loss='binary_crossentropy', metrics=['accuracy'], optimizer=tf.keras.optimizers.Adam(learning_rate=0.001))\n",
        "model.summary()\n",
        "\n",
        "num_epochs = 50\n",
        "history = model.fit(training_sequences, np.array(training_labels), epochs=num_epochs, validation_data=(test_sequences, np.array(test_labels)), verbose=2)\n",
        "\n",
        "print(\"Training Complete\")\n"
      ],
      "execution_count": null,
      "outputs": []
    },
    {
      "cell_type": "code",
      "metadata": {
        "id": "qxju4ItJKO8F",
        "colab": {
          "base_uri": "https://localhost:8080/",
          "height": 608
        },
        "outputId": "afcb5119-573c-40ae-a36c-e8d7dccbfd44"
      },
      "source": [
        "import matplotlib.image  as mpimg\n",
        "import matplotlib.pyplot as plt\n",
        "\n",
        "#-----------------------------------------------------------\n",
        "# Retrieve a list of list results on training and test data\n",
        "# sets for each training epoch\n",
        "#-----------------------------------------------------------\n",
        "acc=history.history['accuracy']\n",
        "val_acc=history.history['val_accuracy']\n",
        "loss=history.history['loss']\n",
        "val_loss=history.history['val_loss']\n",
        "\n",
        "epochs=range(len(acc)) # Get number of epochs\n",
        "\n",
        "#------------------------------------------------\n",
        "# Plot training and validation accuracy per epoch\n",
        "#------------------------------------------------\n",
        "plt.plot(epochs, acc, 'r')\n",
        "plt.plot(epochs, val_acc, 'b')\n",
        "plt.title('Training and validation accuracy')\n",
        "plt.xlabel(\"Epochs\")\n",
        "plt.ylabel(\"Accuracy\")\n",
        "plt.legend([\"Accuracy\", \"Validation Accuracy\"])\n",
        "\n",
        "plt.figure()\n",
        "\n",
        "#------------------------------------------------\n",
        "# Plot training and validation loss per epoch\n",
        "#------------------------------------------------\n",
        "plt.plot(epochs, loss, 'r')\n",
        "plt.plot(epochs, val_loss, 'b')\n",
        "plt.title('Training and validation loss')\n",
        "plt.xlabel(\"Epochs\")\n",
        "plt.ylabel(\"Loss\")\n",
        "plt.legend([\"Loss\", \"Validation Loss\"])\n",
        "\n",
        "plt.figure()\n",
        "\n",
        "\n",
        "# Expected Output\n",
        "# A chart where the validation loss does not increase sharply!"
      ],
      "execution_count": null,
      "outputs": [
        {
          "output_type": "execute_result",
          "data": {
            "text/plain": [
              "<Figure size 432x288 with 0 Axes>"
            ]
          },
          "metadata": {},
          "execution_count": 10
        },
        {
          "output_type": "display_data",
          "data": {
            "image/png": "[encoded data removed]",
            "text/plain": [
              "<Figure size 432x288 with 1 Axes>"
            ]
          },
          "metadata": {
            "needs_background": "light"
          }
        },
        {
          "output_type": "display_data",
          "data": {
            "image/png": "[encoded data removed]",
            "text/plain": [
              "<Figure size 432x288 with 1 Axes>"
            ]
          },
          "metadata": {
            "needs_background": "light"
          }
        },
        {
          "output_type": "display_data",
          "data": {
            "text/plain": [
              "<Figure size 432x288 with 0 Axes>"
            ]
          },
          "metadata": {}
        }
      ]
    },
    {
      "cell_type": "markdown",
      "source": [
        "## Trial 2"
      ],
      "metadata": {
        "id": "WOzc5tOnY04P"
      }
    },
    {
      "cell_type": "code",
      "metadata": {
        "id": "5YHcldgdZFTI"
      },
      "source": [
        "import json\n",
        "import tensorflow as tf\n",
        "import csv\n",
        "import random\n",
        "import numpy as np\n",
        "\n",
        "from tensorflow.keras.preprocessing.text import Tokenizer\n",
        "from tensorflow.keras.preprocessing.sequence import pad_sequences\n",
        "from tensorflow.keras.utils import to_categorical\n",
        "from tensorflow.keras import regularizers\n",
        "\n",
        "\n",
        "embedding_dim = 100\n",
        "max_length = 16\n",
        "trunc_type='post'\n",
        "padding_type='post'\n",
        "oov_tok = \"<OOV>\"\n",
        "training_size= 160000 #Your dataset size here. Experiment using smaller values (i.e. 16000), but don't forget to train on at least 160000 to see the best effects\n",
        "test_portion=.1\n",
        "\n",
        "corpus = []\n"
      ],
      "execution_count": null,
      "outputs": []
    },
    {
      "cell_type": "code",
      "metadata": {
        "colab": {
          "base_uri": "https://localhost:8080/"
        },
        "outputId": "f8b125e1-ff61-41ec-b252-04f8eb403ed0",
        "id": "jPRIXaj7ZFTK"
      },
      "source": [
        "# Note that I cleaned the Stanford dataset to remove LATIN1 encoding to make it easier for Python CSV reader\n",
        "# You can do that yourself with:\n",
        "# iconv -f LATIN1 -t UTF8 training.1600000.processed.noemoticon.csv -o training_cleaned.csv\n",
        "\n",
        "# training_cleaned.csv\n",
        "!gdown --id 1wd8KaeCSHxt-nEpMeuHFSNWrDp8joUXJ\n",
        "\n",
        "num_sentences = 0\n",
        "\n",
        "with open(\"./training_cleaned.csv\") as csvfile:\n",
        "    reader = csv.reader(csvfile, delimiter=',')\n",
        "    for row in reader:\n",
        "        list_item=[]\n",
        "        \n",
        "        ### START CODE HERE\n",
        "        list_item.append(row[5])\n",
        "        label_val = 0 if row[0] == '0' else 1\n",
        "        list_item.append(label_val)\n",
        "        #Create list items where the first item is the text, found in row[5], and the second is the label. Note that the label is a '0' or a '4' in the text. When it's the former, make\n",
        "        # your label to be 0, otherwise 1. Keep a count of the number of sentences in num_sentences\n",
        "        ### END CODE HERE\n",
        "        \n",
        "        num_sentences = num_sentences + 1\n",
        "        corpus.append(list_item)\n"
      ],
      "execution_count": null,
      "outputs": [
        {
          "output_type": "stream",
          "name": "stdout",
          "text": [
            "Downloading...\n",
            "From: https://drive.google.com/uc?id=1wd8KaeCSHxt-nEpMeuHFSNWrDp8joUXJ\n",
            "To: /content/training_cleaned.csv\n",
            "100% 239M/239M [00:02<00:00, 91.8MB/s]\n"
          ]
        }
      ]
    },
    {
      "cell_type": "code",
      "metadata": {
        "colab": {
          "base_uri": "https://localhost:8080/"
        },
        "outputId": "eedab386-5f14-47d7-ce39-14d052c108d3",
        "id": "9ZTRuokcZFTK"
      },
      "source": [
        "print(num_sentences)\n",
        "print(len(corpus))\n",
        "print(corpus[1])\n",
        "\n",
        "# Expected Output:\n",
        "# 1600000\n",
        "# 1600000\n",
        "# [\"is upset that he can't update his Facebook by texting it... and might cry as a result  School today also. Blah!\", 0]"
      ],
      "execution_count": null,
      "outputs": [
        {
          "output_type": "stream",
          "name": "stdout",
          "text": [
            "1600000\n",
            "1600000\n",
            "[\"is upset that he can't update his Facebook by texting it... and might cry as a result  School today also. Blah!\", 0]\n"
          ]
        }
      ]
    },
    {
      "cell_type": "code",
      "metadata": {
        "id": "Q8-fj0A-ZFTK"
      },
      "source": [
        "sentences=[]\n",
        "labels=[]\n",
        "random.shuffle(corpus)\n",
        "for x in range(training_size):\n",
        "    sentences.append(corpus[x][0])\n",
        "    labels.append(corpus[x][1])\n",
        "\n",
        "\n",
        "tokenizer = Tokenizer()\n",
        "tokenizer.fit_on_texts(sentences)\n",
        "\n",
        "word_index = tokenizer.word_index\n",
        "vocab_size=len(word_index)\n",
        "\n",
        "sequences = tokenizer.texts_to_sequences(sentences)\n",
        "padded = pad_sequences(sequences, maxlen=max_length, padding = padding_type, truncating=trunc_type)\n",
        "\n",
        "split = int(test_portion * training_size)\n",
        "\n",
        "test_sequences = padded[:split]\n",
        "training_sequences = padded[split:]\n",
        "test_labels = labels[:split]\n",
        "training_labels = labels[split:]"
      ],
      "execution_count": null,
      "outputs": []
    },
    {
      "cell_type": "code",
      "metadata": {
        "colab": {
          "base_uri": "https://localhost:8080/"
        },
        "outputId": "b1821730-dbc2-4479-80cf-5b221db27e51",
        "id": "bZRNcebPZFTL"
      },
      "source": [
        "print(vocab_size)\n",
        "print(word_index['i'])\n",
        "# Expected Output\n",
        "# 138856\n",
        "# 1"
      ],
      "execution_count": null,
      "outputs": [
        {
          "output_type": "stream",
          "name": "stdout",
          "text": [
            "138409\n",
            "1\n"
          ]
        }
      ]
    },
    {
      "cell_type": "code",
      "metadata": {
        "colab": {
          "base_uri": "https://localhost:8080/"
        },
        "outputId": "f04164fc-14e8-4058-add9-01559e1d46ca",
        "id": "r6SBC6zzZFTL"
      },
      "source": [
        "# Note this is the 100 dimension version of GloVe from Stanford\n",
        "\n",
        "# glove.6B.100d.txt\n",
        "!gdown --id 1W5vZy2etitAblLdFn8_DxnsQKzfFJ98g\n",
        "\n",
        "embeddings_index = {};\n",
        "with open('./glove.6B.100d.txt') as f:\n",
        "    for line in f:\n",
        "        values = line.split();\n",
        "        word = values[0];\n",
        "        coefs = np.asarray(values[1:], dtype='float32');\n",
        "        embeddings_index[word] = coefs;\n",
        "\n",
        "embeddings_matrix = np.zeros((vocab_size+1, embedding_dim));\n",
        "for word, i in word_index.items():\n",
        "    embedding_vector = embeddings_index.get(word);\n",
        "    if embedding_vector is not None:\n",
        "        embeddings_matrix[i] = embedding_vector;"
      ],
      "execution_count": null,
      "outputs": [
        {
          "output_type": "stream",
          "name": "stdout",
          "text": [
            "Downloading...\n",
            "From: https://drive.google.com/uc?id=1W5vZy2etitAblLdFn8_DxnsQKzfFJ98g\n",
            "To: /content/glove.6B.100d.txt\n",
            "100% 347M/347M [00:04<00:00, 75.1MB/s]\n"
          ]
        }
      ]
    },
    {
      "cell_type": "code",
      "metadata": {
        "colab": {
          "base_uri": "https://localhost:8080/"
        },
        "outputId": "9bce4faa-0e1c-43ee-8f86-0fe329bc3d9f",
        "id": "nIoth_zxZFTL"
      },
      "source": [
        "print(len(embeddings_matrix))\n",
        "# Expected Output\n",
        "# 138857"
      ],
      "execution_count": null,
      "outputs": [
        {
          "output_type": "stream",
          "name": "stdout",
          "text": [
            "138410\n"
          ]
        }
      ]
    },
    {
      "cell_type": "code",
      "metadata": {
        "colab": {
          "base_uri": "https://localhost:8080/"
        },
        "outputId": "87543be0-d324-4a0f-d193-3bea9cdd8453",
        "id": "hic_cZT9ZFTL"
      },
      "source": [
        "model = tf.keras.Sequential([\n",
        "    tf.keras.layers.Embedding(vocab_size+1, embedding_dim, input_length=max_length, weights=[embeddings_matrix], trainable=False),\n",
        "    tf.keras.layers.Conv1D(64, 5, activation='relu'),\n",
        "    tf.keras.layers.LSTM(64),\n",
        "    tf.keras.layers.Dense(1, activation='sigmoid')\n",
        "    # YOUR CODE HERE - experiment with combining different types, such as convolutions and LSTMs\n",
        "])\n",
        "model.compile(loss='binary_crossentropy', metrics=['accuracy'], optimizer=tf.keras.optimizers.Adam(learning_rate=0.001))\n",
        "model.summary()\n",
        "\n",
        "num_epochs = 50\n",
        "history = model.fit(training_sequences, np.array(training_labels), epochs=num_epochs, validation_data=(test_sequences, np.array(test_labels)), verbose=2)\n",
        "\n",
        "print(\"Training Complete\")\n"
      ],
      "execution_count": null,
      "outputs": [
        {
          "output_type": "stream",
          "name": "stdout",
          "text": [
            "Model: \"sequential_2\"\n",
            "_________________________________________________________________\n",
            " Layer (type)                Output Shape              Param #   \n",
            "=================================================================\n",
            " embedding_2 (Embedding)     (None, 16, 100)           13542400  \n",
            "                                                                 \n",
            " conv1d_2 (Conv1D)           (None, 12, 64)            32064     \n",
            "                                                                 \n",
            " lstm_2 (LSTM)               (None, 64)                33024     \n",
            "                                                                 \n",
            " dense_2 (Dense)             (None, 1)                 65        \n",
            "                                                                 \n",
            "=================================================================\n",
            "Total params: 13,607,553\n",
            "Trainable params: 65,153\n",
            "Non-trainable params: 13,542,400\n",
            "_________________________________________________________________\n",
            "Epoch 1/50\n",
            "4500/4500 - 25s - loss: 0.5295 - accuracy: 0.7469 - val_loss: 0.5079 - val_accuracy: 0.7532 - 25s/epoch - 6ms/step\n",
            "Epoch 2/50\n",
            "4500/4500 - 23s - loss: 0.5096 - accuracy: 0.7473 - val_loss: 0.5019 - val_accuracy: 0.7524 - 23s/epoch - 5ms/step\n",
            "Epoch 3/50\n",
            "4500/4500 - 24s - loss: 0.4986 - accuracy: 0.7477 - val_loss: 0.5087 - val_accuracy: 0.7455 - 24s/epoch - 5ms/step\n",
            "Epoch 4/50\n",
            "4500/4500 - 23s - loss: 0.4875 - accuracy: 0.7485 - val_loss: 0.5066 - val_accuracy: 0.7501 - 23s/epoch - 5ms/step\n",
            "Epoch 5/50\n",
            "4500/4500 - 23s - loss: 0.4773 - accuracy: 0.7510 - val_loss: 0.5170 - val_accuracy: 0.7497 - 23s/epoch - 5ms/step\n",
            "Epoch 6/50\n",
            "4500/4500 - 23s - loss: 0.4655 - accuracy: 0.7551 - val_loss: 0.5224 - val_accuracy: 0.7467 - 23s/epoch - 5ms/step\n",
            "Epoch 7/50\n",
            "4500/4500 - 24s - loss: 0.4542 - accuracy: 0.7601 - val_loss: 0.5388 - val_accuracy: 0.7432 - 24s/epoch - 5ms/step\n",
            "Epoch 8/50\n",
            "4500/4500 - 23s - loss: 0.4421 - accuracy: 0.7666 - val_loss: 0.5325 - val_accuracy: 0.7359 - 23s/epoch - 5ms/step\n",
            "Epoch 9/50\n",
            "4500/4500 - 24s - loss: 0.4294 - accuracy: 0.7737 - val_loss: 0.5475 - val_accuracy: 0.7250 - 24s/epoch - 5ms/step\n",
            "Epoch 10/50\n",
            "4500/4500 - 23s - loss: 0.4169 - accuracy: 0.7807 - val_loss: 0.5729 - val_accuracy: 0.7126 - 23s/epoch - 5ms/step\n",
            "Epoch 11/50\n",
            "4500/4500 - 24s - loss: 0.4045 - accuracy: 0.7893 - val_loss: 0.5867 - val_accuracy: 0.7114 - 24s/epoch - 5ms/step\n",
            "Epoch 12/50\n",
            "4500/4500 - 23s - loss: 0.3920 - accuracy: 0.7972 - val_loss: 0.6198 - val_accuracy: 0.7121 - 23s/epoch - 5ms/step\n",
            "Epoch 13/50\n",
            "4500/4500 - 23s - loss: 0.3802 - accuracy: 0.8045 - val_loss: 0.6484 - val_accuracy: 0.7071 - 23s/epoch - 5ms/step\n",
            "Epoch 14/50\n",
            "4500/4500 - 24s - loss: 0.3689 - accuracy: 0.8126 - val_loss: 0.6463 - val_accuracy: 0.7003 - 24s/epoch - 5ms/step\n",
            "Epoch 15/50\n",
            "4500/4500 - 23s - loss: 0.3582 - accuracy: 0.8185 - val_loss: 0.6748 - val_accuracy: 0.7101 - 23s/epoch - 5ms/step\n",
            "Epoch 16/50\n",
            "4500/4500 - 24s - loss: 0.3495 - accuracy: 0.8237 - val_loss: 0.6818 - val_accuracy: 0.6958 - 24s/epoch - 5ms/step\n",
            "Epoch 17/50\n",
            "4500/4500 - 24s - loss: 0.3380 - accuracy: 0.8300 - val_loss: 0.7234 - val_accuracy: 0.7038 - 24s/epoch - 5ms/step\n",
            "Epoch 18/50\n",
            "4500/4500 - 23s - loss: 0.3287 - accuracy: 0.8363 - val_loss: 0.7522 - val_accuracy: 0.6927 - 23s/epoch - 5ms/step\n",
            "Epoch 19/50\n",
            "4500/4500 - 23s - loss: 0.3203 - accuracy: 0.8405 - val_loss: 0.7534 - val_accuracy: 0.6949 - 23s/epoch - 5ms/step\n",
            "Epoch 20/50\n",
            "4500/4500 - 24s - loss: 0.3135 - accuracy: 0.8452 - val_loss: 0.7898 - val_accuracy: 0.6931 - 24s/epoch - 5ms/step\n",
            "Epoch 21/50\n",
            "4500/4500 - 24s - loss: 0.3054 - accuracy: 0.8503 - val_loss: 0.8259 - val_accuracy: 0.6959 - 24s/epoch - 5ms/step\n",
            "Epoch 22/50\n",
            "4500/4500 - 24s - loss: 0.2979 - accuracy: 0.8533 - val_loss: 0.8345 - val_accuracy: 0.7019 - 24s/epoch - 5ms/step\n",
            "Epoch 23/50\n",
            "4500/4500 - 23s - loss: 0.2911 - accuracy: 0.8576 - val_loss: 0.8536 - val_accuracy: 0.6914 - 23s/epoch - 5ms/step\n",
            "Epoch 24/50\n",
            "4500/4500 - 24s - loss: 0.2852 - accuracy: 0.8611 - val_loss: 0.8913 - val_accuracy: 0.6920 - 24s/epoch - 5ms/step\n",
            "Epoch 25/50\n",
            "4500/4500 - 23s - loss: 0.2811 - accuracy: 0.8631 - val_loss: 0.8872 - val_accuracy: 0.6891 - 23s/epoch - 5ms/step\n",
            "Epoch 26/50\n",
            "4500/4500 - 24s - loss: 0.2757 - accuracy: 0.8676 - val_loss: 0.8820 - val_accuracy: 0.6905 - 24s/epoch - 5ms/step\n",
            "Epoch 27/50\n",
            "4500/4500 - 24s - loss: 0.2708 - accuracy: 0.8703 - val_loss: 0.9316 - val_accuracy: 0.6959 - 24s/epoch - 5ms/step\n",
            "Epoch 28/50\n",
            "4500/4500 - 24s - loss: 0.2668 - accuracy: 0.8717 - val_loss: 0.9681 - val_accuracy: 0.6911 - 24s/epoch - 5ms/step\n",
            "Epoch 29/50\n",
            "4500/4500 - 24s - loss: 0.2622 - accuracy: 0.8745 - val_loss: 0.9642 - val_accuracy: 0.6892 - 24s/epoch - 5ms/step\n",
            "Epoch 30/50\n",
            "4500/4500 - 23s - loss: 0.2582 - accuracy: 0.8770 - val_loss: 0.9874 - val_accuracy: 0.7005 - 23s/epoch - 5ms/step\n",
            "Epoch 31/50\n",
            "4500/4500 - 23s - loss: 0.2556 - accuracy: 0.8780 - val_loss: 1.0536 - val_accuracy: 0.6959 - 23s/epoch - 5ms/step\n",
            "Epoch 32/50\n",
            "4500/4500 - 24s - loss: 0.2515 - accuracy: 0.8814 - val_loss: 1.0147 - val_accuracy: 0.6867 - 24s/epoch - 5ms/step\n",
            "Epoch 33/50\n",
            "4500/4500 - 23s - loss: 0.2479 - accuracy: 0.8827 - val_loss: 1.0451 - val_accuracy: 0.6845 - 23s/epoch - 5ms/step\n",
            "Epoch 34/50\n",
            "4500/4500 - 24s - loss: 0.2453 - accuracy: 0.8837 - val_loss: 1.0152 - val_accuracy: 0.6933 - 24s/epoch - 5ms/step\n",
            "Epoch 35/50\n",
            "4500/4500 - 23s - loss: 0.2453 - accuracy: 0.8844 - val_loss: 1.0324 - val_accuracy: 0.6862 - 23s/epoch - 5ms/step\n",
            "Epoch 36/50\n",
            "4500/4500 - 24s - loss: 0.2407 - accuracy: 0.8868 - val_loss: 1.0677 - val_accuracy: 0.6888 - 24s/epoch - 5ms/step\n",
            "Epoch 37/50\n",
            "4500/4500 - 24s - loss: 0.2384 - accuracy: 0.8882 - val_loss: 1.0243 - val_accuracy: 0.6820 - 24s/epoch - 5ms/step\n",
            "Epoch 38/50\n",
            "4500/4500 - 23s - loss: 0.2363 - accuracy: 0.8886 - val_loss: 1.0872 - val_accuracy: 0.6906 - 23s/epoch - 5ms/step\n",
            "Epoch 39/50\n",
            "4500/4500 - 24s - loss: 0.2338 - accuracy: 0.8903 - val_loss: 1.0727 - val_accuracy: 0.6863 - 24s/epoch - 5ms/step\n",
            "Epoch 40/50\n",
            "4500/4500 - 23s - loss: 0.2319 - accuracy: 0.8922 - val_loss: 1.1166 - val_accuracy: 0.6856 - 23s/epoch - 5ms/step\n",
            "Epoch 41/50\n",
            "4500/4500 - 24s - loss: 0.2300 - accuracy: 0.8934 - val_loss: 1.0770 - val_accuracy: 0.6808 - 24s/epoch - 5ms/step\n",
            "Epoch 42/50\n",
            "4500/4500 - 23s - loss: 0.2287 - accuracy: 0.8933 - val_loss: 1.1016 - val_accuracy: 0.6874 - 23s/epoch - 5ms/step\n",
            "Epoch 43/50\n",
            "4500/4500 - 24s - loss: 0.2264 - accuracy: 0.8948 - val_loss: 1.1043 - val_accuracy: 0.6871 - 24s/epoch - 5ms/step\n",
            "Epoch 44/50\n",
            "4500/4500 - 30s - loss: 0.2240 - accuracy: 0.8963 - val_loss: 1.1281 - val_accuracy: 0.6847 - 30s/epoch - 7ms/step\n",
            "Epoch 45/50\n",
            "4500/4500 - 29s - loss: 0.2255 - accuracy: 0.8958 - val_loss: 1.0931 - val_accuracy: 0.6873 - 29s/epoch - 6ms/step\n",
            "Epoch 46/50\n",
            "4500/4500 - 24s - loss: 0.2209 - accuracy: 0.8991 - val_loss: 1.1388 - val_accuracy: 0.6916 - 24s/epoch - 5ms/step\n",
            "Epoch 47/50\n",
            "4500/4500 - 25s - loss: 0.2182 - accuracy: 0.8995 - val_loss: 1.1486 - val_accuracy: 0.6811 - 25s/epoch - 5ms/step\n",
            "Epoch 48/50\n",
            "4500/4500 - 25s - loss: 0.2187 - accuracy: 0.8999 - val_loss: 1.1772 - val_accuracy: 0.6902 - 25s/epoch - 6ms/step\n",
            "Epoch 49/50\n",
            "4500/4500 - 24s - loss: 0.2175 - accuracy: 0.9001 - val_loss: 1.1258 - val_accuracy: 0.6832 - 24s/epoch - 5ms/step\n",
            "Epoch 50/50\n",
            "4500/4500 - 23s - loss: 0.2173 - accuracy: 0.9002 - val_loss: 1.1689 - val_accuracy: 0.6858 - 23s/epoch - 5ms/step\n",
            "Training Complete\n"
          ]
        }
      ]
    },
    {
      "cell_type": "code",
      "metadata": {
        "colab": {
          "base_uri": "https://localhost:8080/",
          "height": 608
        },
        "outputId": "1bf62155-d199-49ba-a68f-0ff8693699da",
        "id": "1tTPtqBGZFTL"
      },
      "source": [
        "import matplotlib.image  as mpimg\n",
        "import matplotlib.pyplot as plt\n",
        "\n",
        "#-----------------------------------------------------------\n",
        "# Retrieve a list of list results on training and test data\n",
        "# sets for each training epoch\n",
        "#-----------------------------------------------------------\n",
        "acc=history.history['accuracy']\n",
        "val_acc=history.history['val_accuracy']\n",
        "loss=history.history['loss']\n",
        "val_loss=history.history['val_loss']\n",
        "\n",
        "epochs=range(len(acc)) # Get number of epochs\n",
        "\n",
        "#------------------------------------------------\n",
        "# Plot training and validation accuracy per epoch\n",
        "#------------------------------------------------\n",
        "plt.plot(epochs, acc, 'r')\n",
        "plt.plot(epochs, val_acc, 'b')\n",
        "plt.title('Training and validation accuracy')\n",
        "plt.xlabel(\"Epochs\")\n",
        "plt.ylabel(\"Accuracy\")\n",
        "plt.legend([\"Accuracy\", \"Validation Accuracy\"])\n",
        "\n",
        "plt.figure()\n",
        "\n",
        "#------------------------------------------------\n",
        "# Plot training and validation loss per epoch\n",
        "#------------------------------------------------\n",
        "plt.plot(epochs, loss, 'r')\n",
        "plt.plot(epochs, val_loss, 'b')\n",
        "plt.title('Training and validation loss')\n",
        "plt.xlabel(\"Epochs\")\n",
        "plt.ylabel(\"Loss\")\n",
        "plt.legend([\"Loss\", \"Validation Loss\"])\n",
        "\n",
        "plt.figure()\n",
        "\n",
        "\n",
        "# Expected Output\n",
        "# A chart where the validation loss does not increase sharply!"
      ],
      "execution_count": null,
      "outputs": [
        {
          "output_type": "execute_result",
          "data": {
            "text/plain": [
              "<Figure size 432x288 with 0 Axes>"
            ]
          },
          "metadata": {},
          "execution_count": 26
        },
        {
          "output_type": "display_data",
          "data": {
            "image/png": "[encoded data removed]",
            "text/plain": [
              "<Figure size 432x288 with 1 Axes>"
            ]
          },
          "metadata": {
            "needs_background": "light"
          }
        },
        {
          "output_type": "display_data",
          "data": {
            "image/png": "[encoded data removed]",
            "text/plain": [
              "<Figure size 432x288 with 1 Axes>"
            ]
          },
          "metadata": {
            "needs_background": "light"
          }
        },
        {
          "output_type": "display_data",
          "data": {
            "text/plain": [
              "<Figure size 432x288 with 0 Axes>"
            ]
          },
          "metadata": {}
        }
      ]
    },
    {
      "cell_type": "markdown",
      "source": [
        "## Trial 3"
      ],
      "metadata": {
        "id": "esUlrCQD6wXR"
      }
    },
    {
      "cell_type": "code",
      "metadata": {
        "colab": {
          "base_uri": "https://localhost:8080/"
        },
        "outputId": "270e70e7-38b7-4b35-f748-a6f8bf0a61e7",
        "id": "y4lILipZ6wXV"
      },
      "source": [
        "model = tf.keras.Sequential([\n",
        "    tf.keras.layers.Embedding(vocab_size+1, embedding_dim, input_length=max_length, weights=[embeddings_matrix], trainable=False),\n",
        "    tf.keras.layers.Dropout(0.2),\n",
        "    tf.keras.layers.Conv1D(64, 5, activation='relu'),\n",
        "    tf.keras.layers.Dropout(0.2),\n",
        "    tf.keras.layers.LSTM(64),\n",
        "    tf.keras.layers.Dense(1, activation='sigmoid')\n",
        "    # YOUR CODE HERE - experiment with combining different types, such as convolutions and LSTMs\n",
        "])\n",
        "model.compile(loss='binary_crossentropy', metrics=['accuracy'], optimizer=tf.keras.optimizers.Adam(learning_rate=0.001))\n",
        "model.summary()\n",
        "\n",
        "num_epochs = 15\n",
        "history = model.fit(training_sequences, np.array(training_labels), epochs=num_epochs, validation_data=(test_sequences, np.array(test_labels)), verbose=2)\n",
        "\n",
        "print(\"Training Complete\")\n"
      ],
      "execution_count": null,
      "outputs": [
        {
          "output_type": "stream",
          "name": "stdout",
          "text": [
            "Model: \"sequential_4\"\n",
            "_________________________________________________________________\n",
            " Layer (type)                Output Shape              Param #   \n",
            "=================================================================\n",
            " embedding_5 (Embedding)     (None, 16, 100)           13542400  \n",
            "                                                                 \n",
            " dropout_3 (Dropout)         (None, 16, 100)           0         \n",
            "                                                                 \n",
            " conv1d_5 (Conv1D)           (None, 12, 64)            32064     \n",
            "                                                                 \n",
            " dropout_4 (Dropout)         (None, 12, 64)            0         \n",
            "                                                                 \n",
            " lstm_4 (LSTM)               (None, 64)                33024     \n",
            "                                                                 \n",
            " dense_4 (Dense)             (None, 1)                 65        \n",
            "                                                                 \n",
            "=================================================================\n",
            "Total params: 13,607,553\n",
            "Trainable params: 65,153\n",
            "Non-trainable params: 13,542,400\n",
            "_________________________________________________________________\n",
            "Epoch 1/15\n",
            "4500/4500 - 31s - loss: 0.5371 - accuracy: 0.7470 - val_loss: 0.5141 - val_accuracy: 0.7524 - 31s/epoch - 7ms/step\n",
            "Epoch 2/15\n",
            "4500/4500 - 31s - loss: 0.5214 - accuracy: 0.7475 - val_loss: 0.5057 - val_accuracy: 0.7529 - 31s/epoch - 7ms/step\n",
            "Epoch 3/15\n",
            "4500/4500 - 25s - loss: 0.5153 - accuracy: 0.7470 - val_loss: 0.5013 - val_accuracy: 0.7531 - 25s/epoch - 5ms/step\n",
            "Epoch 4/15\n",
            "4500/4500 - 23s - loss: 0.5112 - accuracy: 0.7474 - val_loss: 0.5011 - val_accuracy: 0.7512 - 23s/epoch - 5ms/step\n",
            "Epoch 5/15\n",
            "4500/4500 - 23s - loss: 0.5080 - accuracy: 0.7475 - val_loss: 0.5009 - val_accuracy: 0.7522 - 23s/epoch - 5ms/step\n",
            "Epoch 6/15\n",
            "4500/4500 - 25s - loss: 0.5050 - accuracy: 0.7475 - val_loss: 0.5040 - val_accuracy: 0.7515 - 25s/epoch - 5ms/step\n",
            "Epoch 7/15\n",
            "4500/4500 - 24s - loss: 0.5022 - accuracy: 0.7479 - val_loss: 0.5067 - val_accuracy: 0.7500 - 24s/epoch - 5ms/step\n",
            "Epoch 8/15\n",
            "4500/4500 - 24s - loss: 0.4997 - accuracy: 0.7479 - val_loss: 0.5005 - val_accuracy: 0.7523 - 24s/epoch - 5ms/step\n",
            "Epoch 9/15\n",
            "4500/4500 - 23s - loss: 0.4976 - accuracy: 0.7492 - val_loss: 0.5005 - val_accuracy: 0.7498 - 23s/epoch - 5ms/step\n",
            "Epoch 10/15\n",
            "4500/4500 - 24s - loss: 0.4952 - accuracy: 0.7490 - val_loss: 0.5003 - val_accuracy: 0.7518 - 24s/epoch - 5ms/step\n",
            "Epoch 11/15\n",
            "4500/4500 - 25s - loss: 0.4943 - accuracy: 0.7499 - val_loss: 0.5025 - val_accuracy: 0.7515 - 25s/epoch - 6ms/step\n",
            "Epoch 12/15\n",
            "4500/4500 - 24s - loss: 0.4925 - accuracy: 0.7496 - val_loss: 0.4995 - val_accuracy: 0.7506 - 24s/epoch - 5ms/step\n",
            "Epoch 13/15\n",
            "4500/4500 - 25s - loss: 0.4914 - accuracy: 0.7505 - val_loss: 0.5023 - val_accuracy: 0.7499 - 25s/epoch - 5ms/step\n",
            "Epoch 14/15\n",
            "4500/4500 - 23s - loss: 0.4905 - accuracy: 0.7515 - val_loss: 0.5018 - val_accuracy: 0.7503 - 23s/epoch - 5ms/step\n",
            "Epoch 15/15\n",
            "4500/4500 - 23s - loss: 0.4889 - accuracy: 0.7517 - val_loss: 0.5018 - val_accuracy: 0.7510 - 23s/epoch - 5ms/step\n",
            "Training Complete\n"
          ]
        }
      ]
    },
    {
      "cell_type": "code",
      "metadata": {
        "colab": {
          "base_uri": "https://localhost:8080/",
          "height": 608
        },
        "id": "aZfYNhSd6wXV",
        "outputId": "30868b6b-2986-4734-a0ba-f30021b82cbc"
      },
      "source": [
        "import matplotlib.image  as mpimg\n",
        "import matplotlib.pyplot as plt\n",
        "\n",
        "#-----------------------------------------------------------\n",
        "# Retrieve a list of list results on training and test data\n",
        "# sets for each training epoch\n",
        "#-----------------------------------------------------------\n",
        "acc=history.history['accuracy']\n",
        "val_acc=history.history['val_accuracy']\n",
        "loss=history.history['loss']\n",
        "val_loss=history.history['val_loss']\n",
        "\n",
        "epochs=range(len(acc)) # Get number of epochs\n",
        "\n",
        "#------------------------------------------------\n",
        "# Plot training and validation accuracy per epoch\n",
        "#------------------------------------------------\n",
        "plt.plot(epochs, acc, 'r')\n",
        "plt.plot(epochs, val_acc, 'b')\n",
        "plt.title('Training and validation accuracy')\n",
        "plt.xlabel(\"Epochs\")\n",
        "plt.ylabel(\"Accuracy\")\n",
        "plt.legend([\"Accuracy\", \"Validation Accuracy\"])\n",
        "\n",
        "plt.figure()\n",
        "\n",
        "#------------------------------------------------\n",
        "# Plot training and validation loss per epoch\n",
        "#------------------------------------------------\n",
        "plt.plot(epochs, loss, 'r')\n",
        "plt.plot(epochs, val_loss, 'b')\n",
        "plt.title('Training and validation loss')\n",
        "plt.xlabel(\"Epochs\")\n",
        "plt.ylabel(\"Loss\")\n",
        "plt.legend([\"Loss\", \"Validation Loss\"])\n",
        "\n",
        "plt.figure()\n",
        "\n",
        "\n",
        "# Expected Output\n",
        "# A chart where the validation loss does not increase sharply!"
      ],
      "execution_count": null,
      "outputs": [
        {
          "output_type": "execute_result",
          "data": {
            "text/plain": [
              "<Figure size 432x288 with 0 Axes>"
            ]
          },
          "metadata": {},
          "execution_count": 30
        },
        {
          "output_type": "display_data",
          "data": {
            "image/png": "[encoded data removed]",
            "text/plain": [
              "<Figure size 432x288 with 1 Axes>"
            ]
          },
          "metadata": {
            "needs_background": "light"
          }
        },
        {
          "output_type": "display_data",
          "data": {
            "image/png": "[encoded data removed]",
            "text/plain": [
              "<Figure size 432x288 with 1 Axes>"
            ]
          },
          "metadata": {
            "needs_background": "light"
          }
        },
        {
          "output_type": "display_data",
          "data": {
            "text/plain": [
              "<Figure size 432x288 with 0 Axes>"
            ]
          },
          "metadata": {}
        }
      ]
    },
    {
      "cell_type": "markdown",
      "source": [
        "## Trial 4"
      ],
      "metadata": {
        "id": "MFX3dHm-8u-w"
      }
    },
    {
      "cell_type": "code",
      "source": [
        "model = tf.keras.Sequential([\n",
        "    tf.keras.layers.Embedding(vocab_size+1, embedding_dim, input_length=max_length, weights=[embeddings_matrix], trainable=False),\n",
        "    tf.keras.layers.Dropout(0.2),\n",
        "    tf.keras.layers.Conv1D(64, 5, activation='relu'),\n",
        "    tf.keras.layers.MaxPooling1D(4),\n",
        "    tf.keras.layers.LSTM(64),\n",
        "    tf.keras.layers.Dense(1, activation='sigmoid')\n",
        "    # YOUR CODE HERE - experiment with combining different types, such as convolutions and LSTMs\n",
        "])\n",
        "model.compile(loss='binary_crossentropy', metrics=['accuracy'], optimizer=tf.keras.optimizers.Adam(learning_rate=0.001))\n",
        "model.summary()\n",
        "\n",
        "num_epochs = 15\n",
        "history = model.fit(training_sequences, np.array(training_labels), epochs=num_epochs, validation_data=(test_sequences, np.array(test_labels)), verbose=2)\n",
        "\n",
        "print(\"Training Complete\")\n"
      ],
      "metadata": {
        "colab": {
          "base_uri": "https://localhost:8080/"
        },
        "id": "wDDniyiG7qHX",
        "outputId": "56eae15c-3525-4feb-b5fe-f39e9d1b0e72"
      },
      "execution_count": null,
      "outputs": [
        {
          "output_type": "stream",
          "name": "stdout",
          "text": [
            "Model: \"sequential_5\"\n",
            "_________________________________________________________________\n",
            " Layer (type)                Output Shape              Param #   \n",
            "=================================================================\n",
            " embedding_6 (Embedding)     (None, 16, 100)           13542400  \n",
            "                                                                 \n",
            " dropout_5 (Dropout)         (None, 16, 100)           0         \n",
            "                                                                 \n",
            " conv1d_6 (Conv1D)           (None, 12, 64)            32064     \n",
            "                                                                 \n",
            " max_pooling1d (MaxPooling1D  (None, 3, 64)            0         \n",
            " )                                                               \n",
            "                                                                 \n",
            " lstm_5 (LSTM)               (None, 64)                33024     \n",
            "                                                                 \n",
            " dense_5 (Dense)             (None, 1)                 65        \n",
            "                                                                 \n",
            "=================================================================\n",
            "Total params: 13,607,553\n",
            "Trainable params: 65,153\n",
            "Non-trainable params: 13,542,400\n",
            "_________________________________________________________________\n",
            "Epoch 1/15\n",
            "4500/4500 - 23s - loss: 0.5337 - accuracy: 0.7471 - val_loss: 0.5122 - val_accuracy: 0.7527 - 23s/epoch - 5ms/step\n",
            "Epoch 2/15\n",
            "4500/4500 - 19s - loss: 0.5172 - accuracy: 0.7472 - val_loss: 0.5061 - val_accuracy: 0.7524 - 19s/epoch - 4ms/step\n",
            "Epoch 3/15\n",
            "4500/4500 - 19s - loss: 0.5111 - accuracy: 0.7476 - val_loss: 0.5061 - val_accuracy: 0.7521 - 19s/epoch - 4ms/step\n",
            "Epoch 4/15\n",
            "4500/4500 - 19s - loss: 0.5059 - accuracy: 0.7474 - val_loss: 0.5103 - val_accuracy: 0.7516 - 19s/epoch - 4ms/step\n",
            "Epoch 5/15\n",
            "4500/4500 - 19s - loss: 0.5007 - accuracy: 0.7484 - val_loss: 0.5027 - val_accuracy: 0.7519 - 19s/epoch - 4ms/step\n",
            "Epoch 6/15\n",
            "4500/4500 - 19s - loss: 0.4958 - accuracy: 0.7492 - val_loss: 0.5072 - val_accuracy: 0.7491 - 19s/epoch - 4ms/step\n",
            "Epoch 7/15\n",
            "4500/4500 - 19s - loss: 0.4916 - accuracy: 0.7499 - val_loss: 0.5085 - val_accuracy: 0.7529 - 19s/epoch - 4ms/step\n",
            "Epoch 8/15\n",
            "4500/4500 - 19s - loss: 0.4886 - accuracy: 0.7512 - val_loss: 0.5091 - val_accuracy: 0.7519 - 19s/epoch - 4ms/step\n",
            "Epoch 9/15\n",
            "4500/4500 - 19s - loss: 0.4847 - accuracy: 0.7515 - val_loss: 0.5120 - val_accuracy: 0.7506 - 19s/epoch - 4ms/step\n",
            "Epoch 10/15\n",
            "4500/4500 - 19s - loss: 0.4822 - accuracy: 0.7526 - val_loss: 0.5074 - val_accuracy: 0.7492 - 19s/epoch - 4ms/step\n",
            "Epoch 11/15\n",
            "4500/4500 - 19s - loss: 0.4789 - accuracy: 0.7547 - val_loss: 0.5164 - val_accuracy: 0.7427 - 19s/epoch - 4ms/step\n",
            "Epoch 12/15\n",
            "4500/4500 - 19s - loss: 0.4759 - accuracy: 0.7560 - val_loss: 0.5114 - val_accuracy: 0.7477 - 19s/epoch - 4ms/step\n",
            "Epoch 13/15\n",
            "4500/4500 - 20s - loss: 0.4741 - accuracy: 0.7574 - val_loss: 0.5262 - val_accuracy: 0.7474 - 20s/epoch - 4ms/step\n",
            "Epoch 14/15\n",
            "4500/4500 - 21s - loss: 0.4723 - accuracy: 0.7588 - val_loss: 0.5149 - val_accuracy: 0.7414 - 21s/epoch - 5ms/step\n",
            "Epoch 15/15\n",
            "4500/4500 - 20s - loss: 0.4690 - accuracy: 0.7606 - val_loss: 0.5207 - val_accuracy: 0.7439 - 20s/epoch - 4ms/step\n",
            "Training Complete\n"
          ]
        }
      ]
    },
    {
      "cell_type": "code",
      "source": [
        "import matplotlib.image  as mpimg\n",
        "import matplotlib.pyplot as plt\n",
        "\n",
        "#-----------------------------------------------------------\n",
        "# Retrieve a list of list results on training and test data\n",
        "# sets for each training epoch\n",
        "#-----------------------------------------------------------\n",
        "acc=history.history['accuracy']\n",
        "val_acc=history.history['val_accuracy']\n",
        "loss=history.history['loss']\n",
        "val_loss=history.history['val_loss']\n",
        "\n",
        "epochs=range(len(acc)) # Get number of epochs\n",
        "\n",
        "#------------------------------------------------\n",
        "# Plot training and validation accuracy per epoch\n",
        "#------------------------------------------------\n",
        "plt.plot(epochs, acc, 'r')\n",
        "plt.plot(epochs, val_acc, 'b')\n",
        "plt.title('Training and validation accuracy')\n",
        "plt.xlabel(\"Epochs\")\n",
        "plt.ylabel(\"Accuracy\")\n",
        "plt.legend([\"Accuracy\", \"Validation Accuracy\"])\n",
        "\n",
        "plt.figure()\n",
        "\n",
        "#------------------------------------------------\n",
        "# Plot training and validation loss per epoch\n",
        "#------------------------------------------------\n",
        "plt.plot(epochs, loss, 'r')\n",
        "plt.plot(epochs, val_loss, 'b')\n",
        "plt.title('Training and validation loss')\n",
        "plt.xlabel(\"Epochs\")\n",
        "plt.ylabel(\"Loss\")\n",
        "plt.legend([\"Loss\", \"Validation Loss\"])\n",
        "\n",
        "plt.figure()\n",
        "\n",
        "\n",
        "# Expected Output\n",
        "# A chart where the validation loss does not increase sharply!"
      ],
      "metadata": {
        "colab": {
          "base_uri": "https://localhost:8080/",
          "height": 608
        },
        "id": "ZwSpDO_j8ykt",
        "outputId": "f951d7d6-600f-48c5-ef12-a0c08f867fb4"
      },
      "execution_count": null,
      "outputs": [
        {
          "output_type": "execute_result",
          "data": {
            "text/plain": [
              "<Figure size 432x288 with 0 Axes>"
            ]
          },
          "metadata": {},
          "execution_count": 33
        },
        {
          "output_type": "display_data",
          "data": {
            "image/png": "[encoded data removed]",
            "text/plain": [
              "<Figure size 432x288 with 1 Axes>"
            ]
          },
          "metadata": {
            "needs_background": "light"
          }
        },
        {
          "output_type": "display_data",
          "data": {
            "image/png": "[encoded data removed]",
            "text/plain": [
              "<Figure size 432x288 with 1 Axes>"
            ]
          },
          "metadata": {
            "needs_background": "light"
          }
        },
        {
          "output_type": "display_data",
          "data": {
            "text/plain": [
              "<Figure size 432x288 with 0 Axes>"
            ]
          },
          "metadata": {}
        }
      ]
    },
    {
      "cell_type": "markdown",
      "source": [
        "## Trial 5"
      ],
      "metadata": {
        "id": "iAUjSbZ3ALZG"
      }
    },
    {
      "cell_type": "code",
      "source": [
        "model = tf.keras.Sequential([\n",
        "    tf.keras.layers.Embedding(vocab_size+1, embedding_dim, input_length=max_length, weights=[embeddings_matrix], trainable=False),\n",
        "    tf.keras.layers.Dropout(0.2),\n",
        "    tf.keras.layers.Conv1D(64, 5, activation='relu'),\n",
        "    tf.keras.layers.LSTM(256, return_sequences=True),\n",
        "    tf.keras.layers.Dropout(0.2),\n",
        "    tf.keras.layers.LSTM(64),\n",
        "    tf.keras.layers.Dense(1, activation='sigmoid')\n",
        "    # YOUR CODE HERE - experiment with combining different types, such as convolutions and LSTMs\n",
        "])\n",
        "model.compile(loss='binary_crossentropy', metrics=['accuracy'], optimizer=tf.keras.optimizers.Adam(learning_rate=0.001))\n",
        "model.summary()\n",
        "\n",
        "num_epochs = 15\n",
        "history = model.fit(training_sequences, np.array(training_labels), epochs=num_epochs, validation_data=(test_sequences, np.array(test_labels)), verbose=2)\n",
        "\n",
        "print(\"Training Complete\")\n"
      ],
      "metadata": {
        "colab": {
          "base_uri": "https://localhost:8080/"
        },
        "id": "hJ92TC-F-RSw",
        "outputId": "5ca18dea-f8fb-4c19-c32b-fda362ebf93d"
      },
      "execution_count": null,
      "outputs": [
        {
          "output_type": "stream",
          "name": "stdout",
          "text": [
            "Model: \"sequential_7\"\n",
            "_________________________________________________________________\n",
            " Layer (type)                Output Shape              Param #   \n",
            "=================================================================\n",
            " embedding_8 (Embedding)     (None, 16, 100)           13542400  \n",
            "                                                                 \n",
            " dropout_8 (Dropout)         (None, 16, 100)           0         \n",
            "                                                                 \n",
            " conv1d_8 (Conv1D)           (None, 12, 64)            32064     \n",
            "                                                                 \n",
            " lstm_8 (LSTM)               (None, 12, 256)           328704    \n",
            "                                                                 \n",
            " dropout_9 (Dropout)         (None, 12, 256)           0         \n",
            "                                                                 \n",
            " lstm_9 (LSTM)               (None, 64)                82176     \n",
            "                                                                 \n",
            " dense_7 (Dense)             (None, 1)                 65        \n",
            "                                                                 \n",
            "=================================================================\n",
            "Total params: 13,985,409\n",
            "Trainable params: 443,009\n",
            "Non-trainable params: 13,542,400\n",
            "_________________________________________________________________\n",
            "Epoch 1/15\n",
            "4500/4500 - 66s - loss: 0.5344 - accuracy: 0.7472 - val_loss: 0.5087 - val_accuracy: 0.7531 - 66s/epoch - 15ms/step\n",
            "Epoch 2/15\n",
            "4500/4500 - 61s - loss: 0.5184 - accuracy: 0.7473 - val_loss: 0.5049 - val_accuracy: 0.7529 - 61s/epoch - 14ms/step\n",
            "Epoch 3/15\n",
            "4500/4500 - 62s - loss: 0.5107 - accuracy: 0.7472 - val_loss: 0.5007 - val_accuracy: 0.7527 - 62s/epoch - 14ms/step\n",
            "Epoch 4/15\n",
            "4500/4500 - 61s - loss: 0.5050 - accuracy: 0.7475 - val_loss: 0.5007 - val_accuracy: 0.7538 - 61s/epoch - 14ms/step\n",
            "Epoch 5/15\n",
            "4500/4500 - 61s - loss: 0.5008 - accuracy: 0.7472 - val_loss: 0.4997 - val_accuracy: 0.7526 - 61s/epoch - 14ms/step\n",
            "Epoch 6/15\n",
            "4500/4500 - 61s - loss: 0.4975 - accuracy: 0.7474 - val_loss: 0.4993 - val_accuracy: 0.7529 - 61s/epoch - 14ms/step\n",
            "Epoch 7/15\n",
            "4500/4500 - 61s - loss: 0.4924 - accuracy: 0.7474 - val_loss: 0.4990 - val_accuracy: 0.7512 - 61s/epoch - 14ms/step\n",
            "Epoch 8/15\n",
            "4500/4500 - 61s - loss: 0.4884 - accuracy: 0.7483 - val_loss: 0.5031 - val_accuracy: 0.7494 - 61s/epoch - 14ms/step\n",
            "Epoch 9/15\n",
            "4500/4500 - 62s - loss: 0.4851 - accuracy: 0.7503 - val_loss: 0.5032 - val_accuracy: 0.7485 - 62s/epoch - 14ms/step\n",
            "Epoch 10/15\n",
            "4500/4500 - 62s - loss: 0.4803 - accuracy: 0.7516 - val_loss: 0.5134 - val_accuracy: 0.7477 - 62s/epoch - 14ms/step\n",
            "Epoch 11/15\n",
            "4500/4500 - 61s - loss: 0.4764 - accuracy: 0.7532 - val_loss: 0.5109 - val_accuracy: 0.7481 - 61s/epoch - 14ms/step\n",
            "Epoch 12/15\n",
            "4500/4500 - 61s - loss: 0.4733 - accuracy: 0.7556 - val_loss: 0.5066 - val_accuracy: 0.7462 - 61s/epoch - 14ms/step\n",
            "Epoch 13/15\n",
            "4500/4500 - 61s - loss: 0.4693 - accuracy: 0.7579 - val_loss: 0.5105 - val_accuracy: 0.7438 - 61s/epoch - 14ms/step\n",
            "Epoch 14/15\n",
            "4500/4500 - 61s - loss: 0.4657 - accuracy: 0.7600 - val_loss: 0.5215 - val_accuracy: 0.7359 - 61s/epoch - 14ms/step\n",
            "Epoch 15/15\n",
            "4500/4500 - 61s - loss: 0.4630 - accuracy: 0.7610 - val_loss: 0.5181 - val_accuracy: 0.7386 - 61s/epoch - 14ms/step\n",
            "Training Complete\n"
          ]
        }
      ]
    },
    {
      "cell_type": "code",
      "source": [
        "import matplotlib.image  as mpimg\n",
        "import matplotlib.pyplot as plt\n",
        "\n",
        "#-----------------------------------------------------------\n",
        "# Retrieve a list of list results on training and test data\n",
        "# sets for each training epoch\n",
        "#-----------------------------------------------------------\n",
        "acc=history.history['accuracy']\n",
        "val_acc=history.history['val_accuracy']\n",
        "loss=history.history['loss']\n",
        "val_loss=history.history['val_loss']\n",
        "\n",
        "epochs=range(len(acc)) # Get number of epochs\n",
        "\n",
        "#------------------------------------------------\n",
        "# Plot training and validation accuracy per epoch\n",
        "#------------------------------------------------\n",
        "plt.plot(epochs, acc, 'r')\n",
        "plt.plot(epochs, val_acc, 'b')\n",
        "plt.title('Training and validation accuracy')\n",
        "plt.xlabel(\"Epochs\")\n",
        "plt.ylabel(\"Accuracy\")\n",
        "plt.legend([\"Accuracy\", \"Validation Accuracy\"])\n",
        "\n",
        "plt.figure()\n",
        "\n",
        "#------------------------------------------------\n",
        "# Plot training and validation loss per epoch\n",
        "#------------------------------------------------\n",
        "plt.plot(epochs, loss, 'r')\n",
        "plt.plot(epochs, val_loss, 'b')\n",
        "plt.title('Training and validation loss')\n",
        "plt.xlabel(\"Epochs\")\n",
        "plt.ylabel(\"Loss\")\n",
        "plt.legend([\"Loss\", \"Validation Loss\"])\n",
        "\n",
        "plt.figure()\n",
        "\n",
        "\n",
        "# Expected Output\n",
        "# A chart where the validation loss does not increase sharply!"
      ],
      "metadata": {
        "id": "DPx8-Xh6BL9H"
      },
      "execution_count": null,
      "outputs": []
    },
    {
      "cell_type": "markdown",
      "source": [
        "## Trial 6"
      ],
      "metadata": {
        "id": "HBCeq6CB3JmC"
      }
    },
    {
      "cell_type": "code",
      "source": [
        "model = tf.keras.Sequential([\n",
        "    tf.keras.layers.Embedding(vocab_size+1, embedding_dim, input_length=max_length, weights=[embeddings_matrix], trainable=False),\n",
        "    tf.keras.layers.Dropout(0.2),\n",
        "    tf.keras.layers.Conv1D(128, 5, activation='relu'),\n",
        "    tf.keras.layers.LSTM(512, return_sequences=True),\n",
        "    tf.keras.layers.Dropout(0.2),\n",
        "    tf.keras.layers.LSTM(256, return_sequences=True),\n",
        "    tf.keras.layers.Dropout(0.2),\n",
        "    tf.keras.layers.LSTM(64),\n",
        "    tf.keras.layers.Dense(1, activation='sigmoid')\n",
        "    # YOUR CODE HERE - experiment with combining different types, such as convolutions and LSTMs\n",
        "])\n",
        "model.compile(loss='binary_crossentropy', metrics=['accuracy'], optimizer=tf.keras.optimizers.Adam(learning_rate=0.001))\n",
        "model.summary()\n",
        "\n",
        "num_epochs = 30\n",
        "history = model.fit(training_sequences, np.array(training_labels), epochs=num_epochs, validation_data=(test_sequences, np.array(test_labels)), verbose=2)\n",
        "\n",
        "print(\"Training Complete\")\n"
      ],
      "metadata": {
        "id": "cv54-SPzZpmc",
        "colab": {
          "base_uri": "https://localhost:8080/"
        },
        "outputId": "94c77f03-7876-4738-8bf2-e75e8ee1cb40"
      },
      "execution_count": null,
      "outputs": [
        {
          "output_type": "stream",
          "name": "stdout",
          "text": [
            "Model: \"sequential\"\n",
            "_________________________________________________________________\n",
            " Layer (type)                Output Shape              Param #   \n",
            "=================================================================\n",
            " embedding (Embedding)       (None, 16, 100)           13870500  \n",
            "                                                                 \n",
            " dropout (Dropout)           (None, 16, 100)           0         \n",
            "                                                                 \n",
            " conv1d (Conv1D)             (None, 12, 128)           64128     \n",
            "                                                                 \n",
            " lstm (LSTM)                 (None, 12, 512)           1312768   \n",
            "                                                                 \n",
            " dropout_1 (Dropout)         (None, 12, 512)           0         \n",
            "                                                                 \n",
            " lstm_1 (LSTM)               (None, 12, 256)           787456    \n",
            "                                                                 \n",
            " dropout_2 (Dropout)         (None, 12, 256)           0         \n",
            "                                                                 \n",
            " lstm_2 (LSTM)               (None, 64)                82176     \n",
            "                                                                 \n",
            " dense (Dense)               (None, 1)                 65        \n",
            "                                                                 \n",
            "=================================================================\n",
            "Total params: 16,117,093\n",
            "Trainable params: 2,246,593\n",
            "Non-trainable params: 13,870,500\n",
            "_________________________________________________________________\n",
            "Epoch 1/30\n",
            "4500/4500 - 142s - loss: 0.5695 - accuracy: 0.6992 - val_loss: 0.5127 - val_accuracy: 0.7400 - 142s/epoch - 32ms/step\n",
            "Epoch 2/30\n",
            "4500/4500 - 88s - loss: 0.5231 - accuracy: 0.7353 - val_loss: 0.5003 - val_accuracy: 0.7501 - 88s/epoch - 20ms/step\n",
            "Epoch 3/30\n",
            "4500/4500 - 90s - loss: 0.5017 - accuracy: 0.7510 - val_loss: 0.4915 - val_accuracy: 0.7555 - 90s/epoch - 20ms/step\n",
            "Epoch 4/30\n",
            "4500/4500 - 90s - loss: 0.4869 - accuracy: 0.7603 - val_loss: 0.4870 - val_accuracy: 0.7585 - 90s/epoch - 20ms/step\n",
            "Epoch 5/30\n",
            "4500/4500 - 90s - loss: 0.4737 - accuracy: 0.7685 - val_loss: 0.4908 - val_accuracy: 0.7573 - 90s/epoch - 20ms/step\n",
            "Epoch 6/30\n",
            "4500/4500 - 88s - loss: 0.4611 - accuracy: 0.7769 - val_loss: 0.4920 - val_accuracy: 0.7576 - 88s/epoch - 20ms/step\n",
            "Epoch 7/30\n",
            "4500/4500 - 88s - loss: 0.4503 - accuracy: 0.7824 - val_loss: 0.4835 - val_accuracy: 0.7628 - 88s/epoch - 20ms/step\n",
            "Epoch 8/30\n",
            "4500/4500 - 90s - loss: 0.4388 - accuracy: 0.7910 - val_loss: 0.4858 - val_accuracy: 0.7617 - 90s/epoch - 20ms/step\n",
            "Epoch 9/30\n",
            "4500/4500 - 90s - loss: 0.4288 - accuracy: 0.7959 - val_loss: 0.4970 - val_accuracy: 0.7620 - 90s/epoch - 20ms/step\n",
            "Epoch 10/30\n",
            "4500/4500 - 90s - loss: 0.4174 - accuracy: 0.8034 - val_loss: 0.5037 - val_accuracy: 0.7600 - 90s/epoch - 20ms/step\n",
            "Epoch 11/30\n",
            "4500/4500 - 88s - loss: 0.4088 - accuracy: 0.8067 - val_loss: 0.4963 - val_accuracy: 0.7600 - 88s/epoch - 20ms/step\n",
            "Epoch 12/30\n",
            "4500/4500 - 88s - loss: 0.3992 - accuracy: 0.8125 - val_loss: 0.5106 - val_accuracy: 0.7592 - 88s/epoch - 20ms/step\n",
            "Epoch 13/30\n",
            "4500/4500 - 90s - loss: 0.3918 - accuracy: 0.8170 - val_loss: 0.5122 - val_accuracy: 0.7598 - 90s/epoch - 20ms/step\n",
            "Epoch 14/30\n",
            "4500/4500 - 88s - loss: 0.3841 - accuracy: 0.8218 - val_loss: 0.5062 - val_accuracy: 0.7569 - 88s/epoch - 20ms/step\n",
            "Epoch 15/30\n",
            "4500/4500 - 90s - loss: 0.3752 - accuracy: 0.8262 - val_loss: 0.5280 - val_accuracy: 0.7568 - 90s/epoch - 20ms/step\n",
            "Epoch 16/30\n",
            "4500/4500 - 90s - loss: 0.3724 - accuracy: 0.8270 - val_loss: 0.5320 - val_accuracy: 0.7557 - 90s/epoch - 20ms/step\n",
            "Epoch 17/30\n",
            "4500/4500 - 88s - loss: 0.3638 - accuracy: 0.8316 - val_loss: 0.5419 - val_accuracy: 0.7526 - 88s/epoch - 20ms/step\n",
            "Epoch 18/30\n",
            "4500/4500 - 90s - loss: 0.3596 - accuracy: 0.8355 - val_loss: 0.5330 - val_accuracy: 0.7521 - 90s/epoch - 20ms/step\n",
            "Epoch 19/30\n",
            "4500/4500 - 90s - loss: 0.3541 - accuracy: 0.8371 - val_loss: 0.5426 - val_accuracy: 0.7511 - 90s/epoch - 20ms/step\n",
            "Epoch 20/30\n",
            "4500/4500 - 88s - loss: 0.3514 - accuracy: 0.8383 - val_loss: 0.5436 - val_accuracy: 0.7516 - 88s/epoch - 20ms/step\n",
            "Epoch 21/30\n",
            "4500/4500 - 88s - loss: 0.3471 - accuracy: 0.8423 - val_loss: 0.5414 - val_accuracy: 0.7516 - 88s/epoch - 20ms/step\n",
            "Epoch 22/30\n",
            "4500/4500 - 88s - loss: 0.3447 - accuracy: 0.8431 - val_loss: 0.5530 - val_accuracy: 0.7509 - 88s/epoch - 20ms/step\n",
            "Epoch 23/30\n",
            "4500/4500 - 90s - loss: 0.3413 - accuracy: 0.8451 - val_loss: 0.5588 - val_accuracy: 0.7505 - 90s/epoch - 20ms/step\n",
            "Epoch 24/30\n",
            "4500/4500 - 90s - loss: 0.3399 - accuracy: 0.8467 - val_loss: 0.5547 - val_accuracy: 0.7492 - 90s/epoch - 20ms/step\n",
            "Epoch 25/30\n",
            "4500/4500 - 90s - loss: 0.3371 - accuracy: 0.8480 - val_loss: 0.5648 - val_accuracy: 0.7499 - 90s/epoch - 20ms/step\n",
            "Epoch 26/30\n",
            "4500/4500 - 88s - loss: 0.3362 - accuracy: 0.8477 - val_loss: 0.5577 - val_accuracy: 0.7479 - 88s/epoch - 20ms/step\n",
            "Epoch 27/30\n",
            "4500/4500 - 88s - loss: 0.3345 - accuracy: 0.8480 - val_loss: 0.5596 - val_accuracy: 0.7518 - 88s/epoch - 20ms/step\n",
            "Epoch 28/30\n",
            "4500/4500 - 90s - loss: 0.3342 - accuracy: 0.8484 - val_loss: 0.5646 - val_accuracy: 0.7462 - 90s/epoch - 20ms/step\n",
            "Epoch 29/30\n",
            "4500/4500 - 90s - loss: 0.3317 - accuracy: 0.8506 - val_loss: 0.5698 - val_accuracy: 0.7519 - 90s/epoch - 20ms/step\n",
            "Epoch 30/30\n",
            "4500/4500 - 90s - loss: 0.3333 - accuracy: 0.8500 - val_loss: 0.5755 - val_accuracy: 0.7466 - 90s/epoch - 20ms/step\n",
            "Training Complete\n"
          ]
        }
      ]
    },
    {
      "cell_type": "code",
      "source": [
        "import matplotlib.image  as mpimg\n",
        "import matplotlib.pyplot as plt\n",
        "\n",
        "#-----------------------------------------------------------\n",
        "# Retrieve a list of list results on training and test data\n",
        "# sets for each training epoch\n",
        "#-----------------------------------------------------------\n",
        "acc=history.history['accuracy']\n",
        "val_acc=history.history['val_accuracy']\n",
        "loss=history.history['loss']\n",
        "val_loss=history.history['val_loss']\n",
        "\n",
        "epochs=range(len(acc)) # Get number of epochs\n",
        "\n",
        "#------------------------------------------------\n",
        "# Plot training and validation accuracy per epoch\n",
        "#------------------------------------------------\n",
        "plt.plot(epochs, acc, 'r')\n",
        "plt.plot(epochs, val_acc, 'b')\n",
        "plt.title('Training and validation accuracy')\n",
        "plt.xlabel(\"Epochs\")\n",
        "plt.ylabel(\"Accuracy\")\n",
        "plt.legend([\"Accuracy\", \"Validation Accuracy\"])\n",
        "\n",
        "plt.figure()\n",
        "\n",
        "#------------------------------------------------\n",
        "# Plot training and validation loss per epoch\n",
        "#------------------------------------------------\n",
        "plt.plot(epochs, loss, 'r')\n",
        "plt.plot(epochs, val_loss, 'b')\n",
        "plt.title('Training and validation loss')\n",
        "plt.xlabel(\"Epochs\")\n",
        "plt.ylabel(\"Loss\")\n",
        "plt.legend([\"Loss\", \"Validation Loss\"])\n",
        "\n",
        "plt.figure()\n",
        "\n",
        "\n",
        "# Expected Output\n",
        "# A chart where the validation loss does not increase sharply!"
      ],
      "metadata": {
        "colab": {
          "base_uri": "https://localhost:8080/",
          "height": 608
        },
        "id": "D1wlH8iM3U-t",
        "outputId": "4174c907-8fb5-4d01-9874-9c5b6b59a314"
      },
      "execution_count": null,
      "outputs": [
        {
          "output_type": "execute_result",
          "data": {
            "text/plain": [
              "<Figure size 432x288 with 0 Axes>"
            ]
          },
          "metadata": {},
          "execution_count": 9
        },
        {
          "output_type": "display_data",
          "data": {
            "image/png": "[encoded data removed]",
            "text/plain": [
              "<Figure size 432x288 with 1 Axes>"
            ]
          },
          "metadata": {
            "needs_background": "light"
          }
        },
        {
          "output_type": "display_data",
          "data": {
            "image/png": "[encoded data removed]",
            "text/plain": [
              "<Figure size 432x288 with 1 Axes>"
            ]
          },
          "metadata": {
            "needs_background": "light"
          }
        },
        {
          "output_type": "display_data",
          "data": {
            "text/plain": [
              "<Figure size 432x288 with 0 Axes>"
            ]
          },
          "metadata": {}
        }
      ]
    },
    {
      "cell_type": "markdown",
      "source": [
        "## Trial 7"
      ],
      "metadata": {
        "id": "fFQpXYOZC_G8"
      }
    },
    {
      "cell_type": "code",
      "source": [
        "tf.keras.backend.clear_session()\n",
        "\n",
        "model = tf.keras.Sequential([\n",
        "    tf.keras.layers.Embedding(vocab_size+1, embedding_dim, input_length=max_length, weights=[embeddings_matrix], trainable=False),\n",
        "    tf.keras.layers.Dropout(0.2),\n",
        "    tf.keras.layers.Conv1D(128, 5, activation='relu'),\n",
        "    tf.keras.layers.Bidirectional(tf.keras.layers.LSTM(256, return_sequences=True)),\n",
        "    tf.keras.layers.Dropout(0.2),\n",
        "    tf.keras.layers.Bidirectional(tf.keras.layers.LSTM(128, return_sequences=True)),\n",
        "    tf.keras.layers.Dropout(0.2),\n",
        "    tf.keras.layers.Bidirectional(tf.keras.layers.LSTM(64)),\n",
        "    tf.keras.layers.Dense(1, activation='sigmoid')\n",
        "    # YOUR CODE HERE - experiment with combining different types, such as convolutions and LSTMs\n",
        "])\n",
        "model.compile(loss='binary_crossentropy', metrics=['accuracy'], optimizer=tf.keras.optimizers.Adam(learning_rate=0.001))\n",
        "model.summary()\n",
        "\n",
        "num_epochs = 30\n",
        "history = model.fit(training_sequences, np.array(training_labels), epochs=num_epochs, validation_data=(test_sequences, np.array(test_labels)), verbose=2)\n",
        "\n",
        "print(\"Training Complete\")\n"
      ],
      "metadata": {
        "colab": {
          "base_uri": "https://localhost:8080/"
        },
        "id": "VjqXqe_73Wmw",
        "outputId": "96d14f95-7bb6-4974-eac4-7ab6bb232b69"
      },
      "execution_count": null,
      "outputs": [
        {
          "output_type": "stream",
          "name": "stdout",
          "text": [
            "Model: \"sequential\"\n",
            "_________________________________________________________________\n",
            " Layer (type)                Output Shape              Param #   \n",
            "=================================================================\n",
            " embedding (Embedding)       (None, 16, 100)           13870500  \n",
            "                                                                 \n",
            " dropout (Dropout)           (None, 16, 100)           0         \n",
            "                                                                 \n",
            " conv1d (Conv1D)             (None, 12, 128)           64128     \n",
            "                                                                 \n",
            " bidirectional (Bidirectiona  (None, 12, 1024)         2625536   \n",
            " l)                                                              \n",
            "                                                                 \n",
            " dropout_1 (Dropout)         (None, 12, 1024)          0         \n",
            "                                                                 \n",
            " bidirectional_1 (Bidirectio  (None, 12, 512)          2623488   \n",
            " nal)                                                            \n",
            "                                                                 \n",
            " dropout_2 (Dropout)         (None, 12, 512)           0         \n",
            "                                                                 \n",
            " bidirectional_2 (Bidirectio  (None, 128)              295424    \n",
            " nal)                                                            \n",
            "                                                                 \n",
            " dense (Dense)               (None, 1)                 129       \n",
            "                                                                 \n",
            "=================================================================\n",
            "Total params: 19,479,205\n",
            "Trainable params: 5,608,705\n",
            "Non-trainable params: 13,870,500\n",
            "_________________________________________________________________\n",
            "Epoch 1/30\n",
            "4500/4500 - 198s - loss: 0.5670 - accuracy: 0.7002 - val_loss: 0.5148 - val_accuracy: 0.7402 - 198s/epoch - 44ms/step\n",
            "Epoch 2/30\n",
            "4500/4500 - 184s - loss: 0.5193 - accuracy: 0.7386 - val_loss: 0.5015 - val_accuracy: 0.7537 - 184s/epoch - 41ms/step\n",
            "Epoch 3/30\n",
            "4500/4500 - 182s - loss: 0.4989 - accuracy: 0.7528 - val_loss: 0.4977 - val_accuracy: 0.7526 - 182s/epoch - 40ms/step\n",
            "Epoch 4/30\n",
            "4500/4500 - 186s - loss: 0.4816 - accuracy: 0.7642 - val_loss: 0.4900 - val_accuracy: 0.7602 - 186s/epoch - 41ms/step\n",
            "Epoch 5/30\n",
            "4500/4500 - 182s - loss: 0.4691 - accuracy: 0.7719 - val_loss: 0.4840 - val_accuracy: 0.7656 - 182s/epoch - 40ms/step\n",
            "Epoch 6/30\n",
            "4500/4500 - 182s - loss: 0.4545 - accuracy: 0.7792 - val_loss: 0.4842 - val_accuracy: 0.7623 - 182s/epoch - 40ms/step\n",
            "Epoch 7/30\n"
          ]
        }
      ]
    },
    {
      "cell_type": "code",
      "source": [
        "import matplotlib.image  as mpimg\n",
        "import matplotlib.pyplot as plt\n",
        "\n",
        "#-----------------------------------------------------------\n",
        "# Retrieve a list of list results on training and test data\n",
        "# sets for each training epoch\n",
        "#-----------------------------------------------------------\n",
        "acc=history.history['accuracy']\n",
        "val_acc=history.history['val_accuracy']\n",
        "loss=history.history['loss']\n",
        "val_loss=history.history['val_loss']\n",
        "\n",
        "epochs=range(len(acc)) # Get number of epochs\n",
        "\n",
        "#------------------------------------------------\n",
        "# Plot training and validation accuracy per epoch\n",
        "#------------------------------------------------\n",
        "plt.plot(epochs, acc, 'r')\n",
        "plt.plot(epochs, val_acc, 'b')\n",
        "plt.title('Training and validation accuracy')\n",
        "plt.xlabel(\"Epochs\")\n",
        "plt.ylabel(\"Accuracy\")\n",
        "plt.legend([\"Accuracy\", \"Validation Accuracy\"])\n",
        "\n",
        "plt.figure()\n",
        "\n",
        "#------------------------------------------------\n",
        "# Plot training and validation loss per epoch\n",
        "#------------------------------------------------\n",
        "plt.plot(epochs, loss, 'r')\n",
        "plt.plot(epochs, val_loss, 'b')\n",
        "plt.title('Training and validation loss')\n",
        "plt.xlabel(\"Epochs\")\n",
        "plt.ylabel(\"Loss\")\n",
        "plt.legend([\"Loss\", \"Validation Loss\"])\n",
        "\n",
        "plt.figure()\n",
        "\n",
        "\n",
        "# Expected Output\n",
        "# A chart where the validation loss does not increase sharply!"
      ],
      "metadata": {
        "id": "bg6G3whqDPEL"
      },
      "execution_count": null,
      "outputs": []
    },
    {
      "cell_type": "markdown",
      "source": [
        "## Trial 8"
      ],
      "metadata": {
        "id": "SN5cnRMJDxVL"
      }
    },
    {
      "cell_type": "code",
      "source": [
        "tf.keras.backend.clear_session()\n",
        "\n",
        "model = tf.keras.Sequential([\n",
        "    tf.keras.layers.Embedding(vocab_size+1, embedding_dim, input_length=max_length, weights=[embeddings_matrix], trainable=False),\n",
        "    tf.keras.layers.Dropout(0.2),\n",
        "    tf.keras.layers.Conv1D(128, 5, activation='relu'),\n",
        "    tf.keras.layers.Bidirectional(tf.keras.layers.LSTM(256, return_sequences=True)),\n",
        "    tf.keras.layers.Dropout(0.2),\n",
        "    tf.keras.layers.Bidirectional(tf.keras.layers.LSTM(128, return_sequences=True)),\n",
        "    tf.keras.layers.Dropout(0.2),\n",
        "    tf.keras.layers.Bidirectional(tf.keras.layers.LSTM(64, return_sequences=True)),\n",
        "    tf.keras.layers.Dropout(0.2),\n",
        "    tf.keras.layers.Bidirectional(tf.keras.layers.LSTM(32, return_sequences=True)),\n",
        "    tf.keras.layers.Dropout(0.2),\n",
        "    tf.keras.layers.Bidirectional(tf.keras.layers.LSTM(16)),\n",
        "    tf.keras.layers.Dense(512, activation='relu'),\n",
        "    tf.keras.layers.Dense(64, activation='relu'),\n",
        "    tf.keras.layers.Dense(1, activation='sigmoid')\n",
        "    # YOUR CODE HERE - experiment with combining different types, such as convolutions and LSTMs\n",
        "])\n"
      ],
      "metadata": {
        "id": "At6OvKZyDQc4"
      },
      "execution_count": null,
      "outputs": []
    },
    {
      "cell_type": "code",
      "source": [
        "BATCH_SIZE=1024\n",
        "STEPS_PER_EPOCH = training_sequences.shape[0]//BATCH_SIZE\n",
        "print(f'STEPS PER EPOCH: {STEPS_PER_EPOCH}')"
      ],
      "metadata": {
        "id": "MS-AkKgJD2SH",
        "colab": {
          "base_uri": "https://localhost:8080/"
        },
        "outputId": "f29acc69-f40b-4096-b991-13b2c9ae7448"
      },
      "execution_count": null,
      "outputs": [
        {
          "output_type": "stream",
          "name": "stdout",
          "text": [
            "STEPS PER EPOCH: 140\n"
          ]
        }
      ]
    },
    {
      "cell_type": "code",
      "source": [
        "lr_scheduler = tf.keras.optimizers.schedules.InverseTimeDecay(\n",
        "    0.001,\n",
        "    decay_steps = STEPS_PER_EPOCH * 10,\n",
        "    decay_rate=1,\n",
        "    staircase = False\n",
        "    )"
      ],
      "metadata": {
        "id": "nHzColDkEGV4"
      },
      "execution_count": null,
      "outputs": []
    },
    {
      "cell_type": "code",
      "source": [
        "es = tf.keras.callbacks.EarlyStopping(monitor='val_loss', patience=5)\n",
        "callbacks = [es]"
      ],
      "metadata": {
        "id": "9CErR1-YEhO2"
      },
      "execution_count": null,
      "outputs": []
    },
    {
      "cell_type": "code",
      "source": [
        "model.compile(loss='binary_crossentropy', \n",
        "              metrics=['accuracy'], \n",
        "              optimizer=tf.keras.optimizers.Adam(lr_scheduler))\n",
        "model.summary()\n",
        "\n",
        "num_epochs = 50\n",
        "history = model.fit(training_sequences, \n",
        "                    np.array(training_labels), \n",
        "                    batch_size = BATCH_SIZE,\n",
        "                    epochs=num_epochs, \n",
        "                    validation_data=(test_sequences, np.array(test_labels)), \n",
        "                    callbacks = callbacks,\n",
        "                    verbose=2)\n",
        "\n",
        "print(\"Training Complete\")"
      ],
      "metadata": {
        "id": "4AC5tx28D1j3",
        "colab": {
          "base_uri": "https://localhost:8080/"
        },
        "outputId": "8e2f66fe-3fc5-4d4d-f8f4-da259395cd82"
      },
      "execution_count": null,
      "outputs": [
        {
          "output_type": "stream",
          "name": "stdout",
          "text": [
            "Model: \"sequential\"\n",
            "_________________________________________________________________\n",
            " Layer (type)                Output Shape              Param #   \n",
            "=================================================================\n",
            " embedding (Embedding)       (None, 16, 100)           13841000  \n",
            "                                                                 \n",
            " dropout (Dropout)           (None, 16, 100)           0         \n",
            "                                                                 \n",
            " conv1d (Conv1D)             (None, 12, 128)           64128     \n",
            "                                                                 \n",
            " bidirectional (Bidirectiona  (None, 12, 512)          788480    \n",
            " l)                                                              \n",
            "                                                                 \n",
            " dropout_1 (Dropout)         (None, 12, 512)           0         \n",
            "                                                                 \n",
            " bidirectional_1 (Bidirectio  (None, 12, 256)          656384    \n",
            " nal)                                                            \n",
            "                                                                 \n",
            " dropout_2 (Dropout)         (None, 12, 256)           0         \n",
            "                                                                 \n",
            " bidirectional_2 (Bidirectio  (None, 12, 128)          164352    \n",
            " nal)                                                            \n",
            "                                                                 \n",
            " dropout_3 (Dropout)         (None, 12, 128)           0         \n",
            "                                                                 \n",
            " bidirectional_3 (Bidirectio  (None, 12, 64)           41216     \n",
            " nal)                                                            \n",
            "                                                                 \n",
            " dropout_4 (Dropout)         (None, 12, 64)            0         \n",
            "                                                                 \n",
            " bidirectional_4 (Bidirectio  (None, 32)               10368     \n",
            " nal)                                                            \n",
            "                                                                 \n",
            " dense (Dense)               (None, 512)               16896     \n",
            "                                                                 \n",
            " dense_1 (Dense)             (None, 64)                32832     \n",
            "                                                                 \n",
            " dense_2 (Dense)             (None, 1)                 65        \n",
            "                                                                 \n",
            "=================================================================\n",
            "Total params: 15,615,721\n",
            "Trainable params: 1,774,721\n",
            "Non-trainable params: 13,841,000\n",
            "_________________________________________________________________\n",
            "Epoch 1/50\n",
            "141/141 - 51s - loss: 0.6017 - accuracy: 0.6657 - val_loss: 0.5354 - val_accuracy: 0.7286 - 51s/epoch - 363ms/step\n",
            "Epoch 2/50\n",
            "141/141 - 19s - loss: 0.5485 - accuracy: 0.7168 - val_loss: 0.5201 - val_accuracy: 0.7415 - 19s/epoch - 138ms/step\n",
            "Epoch 3/50\n",
            "141/141 - 19s - loss: 0.5270 - accuracy: 0.7326 - val_loss: 0.5080 - val_accuracy: 0.7501 - 19s/epoch - 138ms/step\n",
            "Epoch 4/50\n",
            "141/141 - 19s - loss: 0.5144 - accuracy: 0.7421 - val_loss: 0.5058 - val_accuracy: 0.7515 - 19s/epoch - 138ms/step\n",
            "Epoch 5/50\n",
            "141/141 - 19s - loss: 0.5036 - accuracy: 0.7502 - val_loss: 0.4980 - val_accuracy: 0.7544 - 19s/epoch - 137ms/step\n",
            "Epoch 6/50\n",
            "141/141 - 19s - loss: 0.4949 - accuracy: 0.7538 - val_loss: 0.4977 - val_accuracy: 0.7563 - 19s/epoch - 137ms/step\n",
            "Epoch 7/50\n",
            "141/141 - 19s - loss: 0.4878 - accuracy: 0.7590 - val_loss: 0.4995 - val_accuracy: 0.7533 - 19s/epoch - 137ms/step\n",
            "Epoch 8/50\n",
            "141/141 - 19s - loss: 0.4842 - accuracy: 0.7621 - val_loss: 0.5002 - val_accuracy: 0.7559 - 19s/epoch - 137ms/step\n",
            "Epoch 9/50\n",
            "141/141 - 19s - loss: 0.4777 - accuracy: 0.7665 - val_loss: 0.4923 - val_accuracy: 0.7567 - 19s/epoch - 137ms/step\n",
            "Epoch 10/50\n",
            "141/141 - 19s - loss: 0.4747 - accuracy: 0.7682 - val_loss: 0.4931 - val_accuracy: 0.7569 - 19s/epoch - 138ms/step\n",
            "Epoch 11/50\n",
            "141/141 - 19s - loss: 0.4676 - accuracy: 0.7728 - val_loss: 0.5007 - val_accuracy: 0.7576 - 19s/epoch - 137ms/step\n",
            "Epoch 12/50\n",
            "141/141 - 19s - loss: 0.4652 - accuracy: 0.7744 - val_loss: 0.4937 - val_accuracy: 0.7626 - 19s/epoch - 137ms/step\n",
            "Epoch 13/50\n",
            "141/141 - 19s - loss: 0.4615 - accuracy: 0.7776 - val_loss: 0.4949 - val_accuracy: 0.7596 - 19s/epoch - 137ms/step\n",
            "Epoch 14/50\n",
            "141/141 - 19s - loss: 0.4588 - accuracy: 0.7783 - val_loss: 0.4913 - val_accuracy: 0.7636 - 19s/epoch - 138ms/step\n",
            "Epoch 15/50\n",
            "141/141 - 19s - loss: 0.4524 - accuracy: 0.7816 - val_loss: 0.4910 - val_accuracy: 0.7597 - 19s/epoch - 137ms/step\n",
            "Epoch 16/50\n",
            "141/141 - 19s - loss: 0.4498 - accuracy: 0.7835 - val_loss: 0.4974 - val_accuracy: 0.7592 - 19s/epoch - 137ms/step\n",
            "Epoch 17/50\n",
            "141/141 - 19s - loss: 0.4486 - accuracy: 0.7850 - val_loss: 0.5024 - val_accuracy: 0.7563 - 19s/epoch - 137ms/step\n",
            "Epoch 18/50\n",
            "141/141 - 19s - loss: 0.4452 - accuracy: 0.7869 - val_loss: 0.4934 - val_accuracy: 0.7621 - 19s/epoch - 137ms/step\n",
            "Epoch 19/50\n",
            "141/141 - 19s - loss: 0.4427 - accuracy: 0.7889 - val_loss: 0.4973 - val_accuracy: 0.7589 - 19s/epoch - 137ms/step\n",
            "Epoch 20/50\n",
            "141/141 - 19s - loss: 0.4382 - accuracy: 0.7916 - val_loss: 0.4957 - val_accuracy: 0.7613 - 19s/epoch - 138ms/step\n",
            "Training Complete\n"
          ]
        }
      ]
    },
    {
      "cell_type": "code",
      "source": [
        "import matplotlib.image  as mpimg\n",
        "import matplotlib.pyplot as plt\n",
        "\n",
        "#-----------------------------------------------------------\n",
        "# Retrieve a list of list results on training and test data\n",
        "# sets for each training epoch\n",
        "#-----------------------------------------------------------\n",
        "acc=history.history['accuracy']\n",
        "val_acc=history.history['val_accuracy']\n",
        "loss=history.history['loss']\n",
        "val_loss=history.history['val_loss']\n",
        "\n",
        "epochs=range(len(acc)) # Get number of epochs\n",
        "\n",
        "#------------------------------------------------\n",
        "# Plot training and validation accuracy per epoch\n",
        "#------------------------------------------------\n",
        "plt.plot(epochs, acc, 'r')\n",
        "plt.plot(epochs, val_acc, 'b')\n",
        "plt.title('Training and validation accuracy')\n",
        "plt.xlabel(\"Epochs\")\n",
        "plt.ylabel(\"Accuracy\")\n",
        "plt.legend([\"Accuracy\", \"Validation Accuracy\"])\n",
        "\n",
        "plt.figure()\n",
        "\n",
        "#------------------------------------------------\n",
        "# Plot training and validation loss per epoch\n",
        "#------------------------------------------------\n",
        "plt.plot(epochs, loss, 'r')\n",
        "plt.plot(epochs, val_loss, 'b')\n",
        "plt.title('Training and validation loss')\n",
        "plt.xlabel(\"Epochs\")\n",
        "plt.ylabel(\"Loss\")\n",
        "plt.legend([\"Loss\", \"Validation Loss\"])\n",
        "\n",
        "plt.figure()\n",
        "\n",
        "\n",
        "# Expected Output\n",
        "# A chart where the validation loss does not increase sharply!"
      ],
      "metadata": {
        "id": "IcdJRDF5Ewfx",
        "colab": {
          "base_uri": "https://localhost:8080/",
          "height": 608
        },
        "outputId": "d869a5be-2dd7-47ea-892b-ed49816058ab"
      },
      "execution_count": null,
      "outputs": [
        {
          "output_type": "execute_result",
          "data": {
            "text/plain": [
              "<Figure size 432x288 with 0 Axes>"
            ]
          },
          "metadata": {},
          "execution_count": 24
        },
        {
          "output_type": "display_data",
          "data": {
            "image/png": "[encoded data removed]",
            "text/plain": [
              "<Figure size 432x288 with 1 Axes>"
            ]
          },
          "metadata": {
            "needs_background": "light"
          }
        },
        {
          "output_type": "display_data",
          "data": {
            "image/png": "[encoded data removed]",
            "text/plain": [
              "<Figure size 432x288 with 1 Axes>"
            ]
          },
          "metadata": {
            "needs_background": "light"
          }
        },
        {
          "output_type": "display_data",
          "data": {
            "text/plain": [
              "<Figure size 432x288 with 0 Axes>"
            ]
          },
          "metadata": {}
        }
      ]
    },
    {
      "cell_type": "code",
      "source": [
        ""
      ],
      "metadata": {
        "id": "gFeAJ0fRgl6h"
      },
      "execution_count": null,
      "outputs": []
    }
  ]
}