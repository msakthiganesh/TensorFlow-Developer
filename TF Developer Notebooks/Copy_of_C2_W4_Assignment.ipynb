{
  "nbformat": 4,
  "nbformat_minor": 0,
  "metadata": {
    "colab": {
      "name": "Copy of C2_W4_Assignment.ipynb",
      "provenance": [],
      "collapsed_sections": [],
      "toc_visible": true
    },
    "kernelspec": {
      "display_name": "Python 3",
      "language": "python",
      "name": "python3"
    },
    "language_info": {
      "codemirror_mode": {
        "name": "ipython",
        "version": 3
      },
      "file_extension": ".py",
      "mimetype": "text/x-python",
      "name": "python",
      "nbconvert_exporter": "python",
      "pygments_lexer": "ipython3",
      "version": "3.8.5"
    },
    "accelerator": "GPU"
  },
  "cells": [
    {
      "cell_type": "code",
      "metadata": {
        "id": "zX4Kg8DUTKWO"
      },
      "source": [
        "#@title Licensed under the Apache License, Version 2.0 (the \"License\");\n",
        "# you may not use this file except in compliance with the License.\n",
        "# You may obtain a copy of the License at\n",
        "#\n",
        "# https://www.apache.org/licenses/LICENSE-2.0\n",
        "#\n",
        "# Unless required by applicable law or agreed to in writing, software\n",
        "# distributed under the License is distributed on an \"AS IS\" BASIS,\n",
        "# WITHOUT WARRANTIES OR CONDITIONS OF ANY KIND, either express or implied.\n",
        "# See the License for the specific language governing permissions and\n",
        "# limitations under the License."
      ],
      "execution_count": null,
      "outputs": []
    },
    {
      "cell_type": "markdown",
      "metadata": {
        "id": "KGYHjVbZHv1G"
      },
      "source": [
        "**IMPORTANT NOTE:** This notebook is designed to run as a Colab. Click the button on top that says, `Open in Colab`, to run this notebook as a Colab. Running the notebook on your local machine might result in some of the code blocks throwing errors."
      ]
    },
    {
      "cell_type": "code",
      "metadata": {
        "id": "wYtuKeK0dImp"
      },
      "source": [
        "import csv\n",
        "import numpy as np\n",
        "import tensorflow as tf\n",
        "from tensorflow.keras.preprocessing.image import ImageDataGenerator\n",
        "from google.colab import files"
      ],
      "execution_count": null,
      "outputs": []
    },
    {
      "cell_type": "code",
      "metadata": {
        "id": "4kxw-_rmcnVu",
        "colab": {
          "base_uri": "https://localhost:8080/"
        },
        "outputId": "819a55fb-339d-4d56-8e2d-dbae6e60c8d5"
      },
      "source": [
        "# sign_mnist_train.csv\n",
        "!gdown --id 1z0DkA9BytlLxO1C0BAWzknLyQmZAp0HR\n",
        "# sign_mnist_test.csv\n",
        "!gdown --id 1z1BIj4qmri59GWBG4ivMNFtpZ4AXIbzg\n",
        "\n",
        "def get_data(filename):\n",
        "  # You will need to write code that will read the file passed\n",
        "  # into this function. The first line contains the column headers\n",
        "  # so you should ignore it\n",
        "  # Each successive line contians 785 comma separated values between 0 and 255\n",
        "  # The first value is the label\n",
        "  # The rest are the pixel values for that picture\n",
        "  # The function will return 2 np.array types. One with all the labels\n",
        "  # One with all the images\n",
        "  #\n",
        "  # Tips: \n",
        "  # If you read a full line (as 'row') then row[0] has the label\n",
        "  # and row[1:785] has the 784 pixel values\n",
        "  # Take a look at np.array_split to turn the 784 pixels into 28x28\n",
        "  # You are reading in strings, but need the values to be floats\n",
        "  # Check out np.array().astype for a conversion\n",
        "    with open(filename) as training_file:\n",
        "      ### START CODE HERE\n",
        "      csv_reader = csv.reader(training_file, delimiter=',')\n",
        "      temp_images = []\n",
        "      temp_labels = []\n",
        "      for i, row in enumerate(csv_reader):\n",
        "        if i==0: pass\n",
        "        else:\n",
        "          temp_labels.append(row[0])\n",
        "          image_data = row[1:785]\n",
        "          temp_images.append(np.array_split(image_data, 28))\n",
        "      \n",
        "      images = np.array(temp_images).astype('float')\n",
        "      labels = np.array(temp_labels).astype('float')\n",
        "      ### END CODE HERE\n",
        "    return images, labels\n",
        "\n",
        "\n",
        "training_images, training_labels = get_data('./sign_mnist_train.csv')\n",
        "testing_images, testing_labels = get_data('./sign_mnist_test.csv')\n",
        "\n",
        "# Keep these\n",
        "print(training_images.shape)\n",
        "print(training_labels.shape)\n",
        "print(testing_images.shape)\n",
        "print(testing_labels.shape)\n",
        "\n",
        "# Their output should be:\n",
        "# (27455, 28, 28)\n",
        "# (27455,)\n",
        "# (7172, 28, 28)\n",
        "# (7172,)"
      ],
      "execution_count": null,
      "outputs": [
        {
          "output_type": "stream",
          "name": "stdout",
          "text": [
            "Downloading...\n",
            "From: https://drive.google.com/uc?id=1z0DkA9BytlLxO1C0BAWzknLyQmZAp0HR\n",
            "To: /content/sign_mnist_train.csv\n",
            "100% 83.3M/83.3M [00:00<00:00, 135MB/s] \n",
            "Downloading...\n",
            "From: https://drive.google.com/uc?id=1z1BIj4qmri59GWBG4ivMNFtpZ4AXIbzg\n",
            "To: /content/sign_mnist_test.csv\n",
            "100% 21.8M/21.8M [00:00<00:00, 191MB/s]\n",
            "(27455, 28, 28)\n",
            "(27455,)\n",
            "(7172, 28, 28)\n",
            "(7172,)\n"
          ]
        }
      ]
    },
    {
      "cell_type": "code",
      "metadata": {
        "id": "awoqRpyZdQkD",
        "colab": {
          "base_uri": "https://localhost:8080/"
        },
        "outputId": "f11c64e6-6b5e-4377-8018-3e46b8bff738"
      },
      "source": [
        "# In this section you will have to add another dimension to the data\n",
        "# So, for example, if your array is (10000, 28, 28)\n",
        "# You will need to make it (10000, 28, 28, 1)\n",
        "# Hint: np.expand_dims\n",
        "\n",
        "training_images = np.expand_dims(training_images, axis=3)\n",
        "testing_images = np.expand_dims(testing_images, axis=3)\n",
        "\n",
        "train_datagen = ImageDataGenerator(\n",
        "    rescale=1/255.,\n",
        "    rotation_range=40,\n",
        "    width_shift_range=0.2,\n",
        "    height_shift_range=0.2,\n",
        "    shear_range=0.2,\n",
        "    fill_mode='nearest',\n",
        "    horizontal_flip=True,\n",
        "    zoom_range=0.2\n",
        "    )\n",
        "\n",
        "validation_datagen = ImageDataGenerator(\n",
        "    rescale=1/255.\n",
        "    )\n",
        "\n",
        "# Keep These\n",
        "print(training_images.shape)\n",
        "print(testing_images.shape)\n",
        "    \n",
        "# Their output should be:\n",
        "# (27455, 28, 28, 1)\n",
        "# (7172, 28, 28, 1)"
      ],
      "execution_count": null,
      "outputs": [
        {
          "output_type": "stream",
          "name": "stdout",
          "text": [
            "(27455, 28, 28, 1)\n",
            "(7172, 28, 28, 1)\n"
          ]
        }
      ]
    },
    {
      "cell_type": "code",
      "source": [
        "set(training_labels)"
      ],
      "metadata": {
        "colab": {
          "base_uri": "https://localhost:8080/"
        },
        "id": "_1IBrd52gpGY",
        "outputId": "d4692fe4-1b09-470a-f818-419648e90b1c"
      },
      "execution_count": null,
      "outputs": [
        {
          "output_type": "execute_result",
          "data": {
            "text/plain": [
              "{0.0,\n",
              " 1.0,\n",
              " 2.0,\n",
              " 3.0,\n",
              " 4.0,\n",
              " 5.0,\n",
              " 6.0,\n",
              " 7.0,\n",
              " 8.0,\n",
              " 10.0,\n",
              " 11.0,\n",
              " 12.0,\n",
              " 13.0,\n",
              " 14.0,\n",
              " 15.0,\n",
              " 16.0,\n",
              " 17.0,\n",
              " 18.0,\n",
              " 19.0,\n",
              " 20.0,\n",
              " 21.0,\n",
              " 22.0,\n",
              " 23.0,\n",
              " 24.0}"
            ]
          },
          "metadata": {},
          "execution_count": 9
        }
      ]
    },
    {
      "cell_type": "code",
      "source": [
        "len(set(testing_labels))"
      ],
      "metadata": {
        "colab": {
          "base_uri": "https://localhost:8080/"
        },
        "id": "3wW2BVTseP9E",
        "outputId": "326e51ef-c33d-4483-f3e4-0abac966ff82"
      },
      "execution_count": null,
      "outputs": [
        {
          "output_type": "execute_result",
          "data": {
            "text/plain": [
              "24"
            ]
          },
          "metadata": {},
          "execution_count": 8
        }
      ]
    },
    {
      "cell_type": "code",
      "metadata": {
        "id": "Rmb7S32cgRqS",
        "colab": {
          "base_uri": "https://localhost:8080/"
        },
        "outputId": "e590d5e4-23f6-406c-cd88-58c476c0e14e"
      },
      "source": [
        "# Define the model\n",
        "# Use no more than 2 Conv2D and 2 MaxPooling2D\n",
        "model = tf.keras.models.Sequential([\n",
        "    ### START CODE HERE                                \n",
        "    tf.keras.layers.Conv2D(64, (3,3), activation='relu', input_shape=(28, 28, 1)),\n",
        "    tf.keras.layers.MaxPooling2D(),\n",
        "    tf.keras.layers.Conv2D(32, (3,3), activation='relu'),\n",
        "    tf.keras.layers.MaxPooling2D(),\n",
        "    tf.keras.layers.Flatten(),\n",
        "    tf.keras.layers.Dense(256, activation='relu'),\n",
        "    tf.keras.layers.Dense(26, activation='softmax')\n",
        "]\n",
        "    ### END CODE HERE\n",
        "    )\n",
        "\n",
        "model.compile(loss='sparse_categorical_crossentropy', optimizer=tf.keras.optimizers.Adam(learning_rate=0.0001), metrics=['accuracy'])\n",
        "\n",
        "history = model.fit_generator(\n",
        "    train_datagen.flow(training_images, training_labels, batch_size=32),\n",
        "    steps_per_epoch=len(training_images)/32,\n",
        "    epochs=100,\n",
        "    validation_data = validation_datagen.flow(testing_images, testing_labels, batch_size=32),\n",
        "    validation_steps=len(testing_images)/32\n",
        "    )\n",
        "\n",
        "model.evaluate(testing_images, testing_labels)\n",
        "\n",
        "# The output from model.evaluate should be close to:\n",
        "# [6.92426086682151, 0.56609035]\n"
      ],
      "execution_count": null,
      "outputs": [
        {
          "output_type": "stream",
          "name": "stderr",
          "text": [
            "/usr/local/lib/python3.7/dist-packages/ipykernel_launcher.py:23: UserWarning: `Model.fit_generator` is deprecated and will be removed in a future version. Please use `Model.fit`, which supports generators.\n"
          ]
        },
        {
          "output_type": "stream",
          "name": "stdout",
          "text": [
            "Epoch 1/100\n",
            "857/857 [==============================] - 11s 13ms/step - loss: 3.1290 - accuracy: 0.0733 - val_loss: 2.8949 - val_accuracy: 0.1332\n",
            "Epoch 2/100\n",
            "857/857 [==============================] - 10s 12ms/step - loss: 2.9380 - accuracy: 0.1292 - val_loss: 2.5816 - val_accuracy: 0.3313\n",
            "Epoch 3/100\n",
            "857/857 [==============================] - 10s 12ms/step - loss: 2.7659 - accuracy: 0.1820 - val_loss: 2.2863 - val_accuracy: 0.3783\n",
            "Epoch 4/100\n",
            "857/857 [==============================] - 11s 13ms/step - loss: 2.5892 - accuracy: 0.2278 - val_loss: 2.1778 - val_accuracy: 0.3398\n",
            "Epoch 5/100\n",
            "857/857 [==============================] - 10s 12ms/step - loss: 2.4418 - accuracy: 0.2662 - val_loss: 1.9470 - val_accuracy: 0.3898\n",
            "Epoch 6/100\n",
            "857/857 [==============================] - 11s 12ms/step - loss: 2.3309 - accuracy: 0.2946 - val_loss: 1.9197 - val_accuracy: 0.3516\n",
            "Epoch 7/100\n",
            "857/857 [==============================] - 11s 12ms/step - loss: 2.2306 - accuracy: 0.3188 - val_loss: 1.8550 - val_accuracy: 0.3801\n",
            "Epoch 8/100\n",
            "857/857 [==============================] - 10s 12ms/step - loss: 2.1651 - accuracy: 0.3380 - val_loss: 1.6329 - val_accuracy: 0.4873\n",
            "Epoch 9/100\n",
            "857/857 [==============================] - 11s 12ms/step - loss: 2.0939 - accuracy: 0.3553 - val_loss: 1.5755 - val_accuracy: 0.4778\n",
            "Epoch 10/100\n",
            "857/857 [==============================] - 11s 12ms/step - loss: 2.0383 - accuracy: 0.3702 - val_loss: 1.6940 - val_accuracy: 0.4313\n",
            "Epoch 11/100\n",
            "857/857 [==============================] - 11s 12ms/step - loss: 1.9801 - accuracy: 0.3872 - val_loss: 1.6262 - val_accuracy: 0.4735\n",
            "Epoch 12/100\n",
            "857/857 [==============================] - 11s 12ms/step - loss: 1.9482 - accuracy: 0.3962 - val_loss: 1.6020 - val_accuracy: 0.4734\n",
            "Epoch 13/100\n",
            "857/857 [==============================] - 10s 12ms/step - loss: 1.8948 - accuracy: 0.4124 - val_loss: 1.4327 - val_accuracy: 0.5070\n",
            "Epoch 14/100\n",
            "857/857 [==============================] - 10s 12ms/step - loss: 1.8527 - accuracy: 0.4262 - val_loss: 1.3804 - val_accuracy: 0.5399\n",
            "Epoch 15/100\n",
            "857/857 [==============================] - 11s 12ms/step - loss: 1.7968 - accuracy: 0.4390 - val_loss: 1.3108 - val_accuracy: 0.5715\n",
            "Epoch 16/100\n",
            "857/857 [==============================] - 11s 12ms/step - loss: 1.7567 - accuracy: 0.4499 - val_loss: 1.3063 - val_accuracy: 0.5350\n",
            "Epoch 17/100\n",
            "857/857 [==============================] - 10s 12ms/step - loss: 1.7084 - accuracy: 0.4702 - val_loss: 1.3116 - val_accuracy: 0.5898\n",
            "Epoch 18/100\n",
            "857/857 [==============================] - 11s 12ms/step - loss: 1.6741 - accuracy: 0.4746 - val_loss: 1.2422 - val_accuracy: 0.5731\n",
            "Epoch 19/100\n",
            "857/857 [==============================] - 11s 12ms/step - loss: 1.6409 - accuracy: 0.4871 - val_loss: 1.2584 - val_accuracy: 0.5685\n",
            "Epoch 20/100\n",
            "857/857 [==============================] - 10s 12ms/step - loss: 1.5975 - accuracy: 0.4994 - val_loss: 1.0689 - val_accuracy: 0.6532\n",
            "Epoch 21/100\n",
            "857/857 [==============================] - 10s 12ms/step - loss: 1.5747 - accuracy: 0.5053 - val_loss: 1.0242 - val_accuracy: 0.6537\n",
            "Epoch 22/100\n",
            "857/857 [==============================] - 10s 12ms/step - loss: 1.5335 - accuracy: 0.5239 - val_loss: 1.0172 - val_accuracy: 0.6573\n",
            "Epoch 23/100\n",
            "857/857 [==============================] - 10s 12ms/step - loss: 1.4936 - accuracy: 0.5289 - val_loss: 1.0692 - val_accuracy: 0.6400\n",
            "Epoch 24/100\n",
            "857/857 [==============================] - 10s 12ms/step - loss: 1.4515 - accuracy: 0.5447 - val_loss: 0.9275 - val_accuracy: 0.6967\n",
            "Epoch 25/100\n",
            "857/857 [==============================] - 11s 12ms/step - loss: 1.4318 - accuracy: 0.5482 - val_loss: 0.9988 - val_accuracy: 0.6555\n",
            "Epoch 26/100\n",
            "857/857 [==============================] - 11s 12ms/step - loss: 1.3898 - accuracy: 0.5644 - val_loss: 0.9477 - val_accuracy: 0.6857\n",
            "Epoch 27/100\n",
            "857/857 [==============================] - 10s 12ms/step - loss: 1.3696 - accuracy: 0.5701 - val_loss: 0.8769 - val_accuracy: 0.7064\n",
            "Epoch 28/100\n",
            "857/857 [==============================] - 10s 12ms/step - loss: 1.3347 - accuracy: 0.5780 - val_loss: 0.8439 - val_accuracy: 0.7235\n",
            "Epoch 29/100\n",
            "857/857 [==============================] - 10s 12ms/step - loss: 1.3106 - accuracy: 0.5870 - val_loss: 0.9214 - val_accuracy: 0.6871\n",
            "Epoch 30/100\n",
            "857/857 [==============================] - 11s 12ms/step - loss: 1.2835 - accuracy: 0.5933 - val_loss: 0.9292 - val_accuracy: 0.6684\n",
            "Epoch 31/100\n",
            "857/857 [==============================] - 10s 12ms/step - loss: 1.2605 - accuracy: 0.6009 - val_loss: 0.8186 - val_accuracy: 0.7284\n",
            "Epoch 32/100\n",
            "857/857 [==============================] - 10s 12ms/step - loss: 1.2267 - accuracy: 0.6103 - val_loss: 0.8242 - val_accuracy: 0.7230\n",
            "Epoch 33/100\n",
            "857/857 [==============================] - 11s 12ms/step - loss: 1.2129 - accuracy: 0.6156 - val_loss: 0.7860 - val_accuracy: 0.7188\n",
            "Epoch 34/100\n",
            "857/857 [==============================] - 11s 12ms/step - loss: 1.1944 - accuracy: 0.6209 - val_loss: 0.7679 - val_accuracy: 0.7471\n",
            "Epoch 35/100\n",
            "857/857 [==============================] - 10s 12ms/step - loss: 1.1653 - accuracy: 0.6255 - val_loss: 0.7896 - val_accuracy: 0.7340\n",
            "Epoch 36/100\n",
            "857/857 [==============================] - 11s 12ms/step - loss: 1.1486 - accuracy: 0.6349 - val_loss: 0.7186 - val_accuracy: 0.7397\n",
            "Epoch 37/100\n",
            "857/857 [==============================] - 10s 12ms/step - loss: 1.1228 - accuracy: 0.6432 - val_loss: 0.6815 - val_accuracy: 0.7563\n",
            "Epoch 38/100\n",
            "857/857 [==============================] - 11s 12ms/step - loss: 1.0974 - accuracy: 0.6500 - val_loss: 0.7041 - val_accuracy: 0.7566\n",
            "Epoch 39/100\n",
            "857/857 [==============================] - 10s 12ms/step - loss: 1.0818 - accuracy: 0.6541 - val_loss: 0.6762 - val_accuracy: 0.7683\n",
            "Epoch 40/100\n",
            "857/857 [==============================] - 10s 12ms/step - loss: 1.0632 - accuracy: 0.6591 - val_loss: 0.8062 - val_accuracy: 0.7165\n",
            "Epoch 41/100\n",
            "857/857 [==============================] - 11s 12ms/step - loss: 1.0470 - accuracy: 0.6643 - val_loss: 0.6419 - val_accuracy: 0.7765\n",
            "Epoch 42/100\n",
            "857/857 [==============================] - 10s 12ms/step - loss: 1.0226 - accuracy: 0.6729 - val_loss: 0.6386 - val_accuracy: 0.7648\n",
            "Epoch 43/100\n",
            "857/857 [==============================] - 11s 12ms/step - loss: 0.9973 - accuracy: 0.6810 - val_loss: 0.6338 - val_accuracy: 0.7794\n",
            "Epoch 44/100\n",
            "857/857 [==============================] - 10s 12ms/step - loss: 0.9938 - accuracy: 0.6825 - val_loss: 0.6057 - val_accuracy: 0.7895\n",
            "Epoch 45/100\n",
            "857/857 [==============================] - 10s 12ms/step - loss: 0.9692 - accuracy: 0.6900 - val_loss: 0.5973 - val_accuracy: 0.7783\n",
            "Epoch 46/100\n",
            "857/857 [==============================] - 10s 12ms/step - loss: 0.9628 - accuracy: 0.6909 - val_loss: 0.5651 - val_accuracy: 0.7995\n",
            "Epoch 47/100\n",
            "857/857 [==============================] - 11s 12ms/step - loss: 0.9298 - accuracy: 0.7004 - val_loss: 0.6527 - val_accuracy: 0.7612\n",
            "Epoch 48/100\n",
            "857/857 [==============================] - 13s 16ms/step - loss: 0.9215 - accuracy: 0.7034 - val_loss: 0.5677 - val_accuracy: 0.8020\n",
            "Epoch 49/100\n",
            "857/857 [==============================] - 12s 14ms/step - loss: 0.9155 - accuracy: 0.7060 - val_loss: 0.5406 - val_accuracy: 0.8105\n",
            "Epoch 50/100\n",
            "857/857 [==============================] - 12s 15ms/step - loss: 0.8960 - accuracy: 0.7151 - val_loss: 0.4998 - val_accuracy: 0.8178\n",
            "Epoch 51/100\n",
            "857/857 [==============================] - 13s 15ms/step - loss: 0.8816 - accuracy: 0.7169 - val_loss: 0.5233 - val_accuracy: 0.8134\n",
            "Epoch 52/100\n",
            "857/857 [==============================] - 11s 13ms/step - loss: 0.8615 - accuracy: 0.7238 - val_loss: 0.5015 - val_accuracy: 0.8197\n",
            "Epoch 53/100\n",
            "857/857 [==============================] - 10s 12ms/step - loss: 0.8653 - accuracy: 0.7188 - val_loss: 0.5439 - val_accuracy: 0.8033\n",
            "Epoch 54/100\n",
            "857/857 [==============================] - 10s 12ms/step - loss: 0.8332 - accuracy: 0.7311 - val_loss: 0.4659 - val_accuracy: 0.8390\n",
            "Epoch 55/100\n",
            "857/857 [==============================] - 10s 12ms/step - loss: 0.8297 - accuracy: 0.7343 - val_loss: 0.4494 - val_accuracy: 0.8472\n",
            "Epoch 56/100\n",
            "857/857 [==============================] - 11s 12ms/step - loss: 0.8254 - accuracy: 0.7326 - val_loss: 0.4280 - val_accuracy: 0.8554\n",
            "Epoch 57/100\n",
            "857/857 [==============================] - 10s 12ms/step - loss: 0.8025 - accuracy: 0.7427 - val_loss: 0.4711 - val_accuracy: 0.8332\n",
            "Epoch 58/100\n",
            "857/857 [==============================] - 11s 12ms/step - loss: 0.7980 - accuracy: 0.7450 - val_loss: 0.4762 - val_accuracy: 0.8321\n",
            "Epoch 59/100\n",
            "857/857 [==============================] - 10s 12ms/step - loss: 0.7764 - accuracy: 0.7524 - val_loss: 0.4393 - val_accuracy: 0.8504\n",
            "Epoch 60/100\n",
            "857/857 [==============================] - 11s 12ms/step - loss: 0.7666 - accuracy: 0.7522 - val_loss: 0.5258 - val_accuracy: 0.8094\n",
            "Epoch 61/100\n",
            "857/857 [==============================] - 10s 12ms/step - loss: 0.7634 - accuracy: 0.7545 - val_loss: 0.4610 - val_accuracy: 0.8346\n",
            "Epoch 62/100\n",
            "857/857 [==============================] - 11s 13ms/step - loss: 0.7463 - accuracy: 0.7583 - val_loss: 0.4104 - val_accuracy: 0.8600\n",
            "Epoch 63/100\n",
            "857/857 [==============================] - 10s 12ms/step - loss: 0.7415 - accuracy: 0.7634 - val_loss: 0.3796 - val_accuracy: 0.8635\n",
            "Epoch 64/100\n",
            "857/857 [==============================] - 10s 12ms/step - loss: 0.7241 - accuracy: 0.7661 - val_loss: 0.4071 - val_accuracy: 0.8586\n",
            "Epoch 65/100\n",
            "857/857 [==============================] - 10s 12ms/step - loss: 0.7057 - accuracy: 0.7748 - val_loss: 0.3824 - val_accuracy: 0.8602\n",
            "Epoch 66/100\n",
            "857/857 [==============================] - 11s 12ms/step - loss: 0.7043 - accuracy: 0.7714 - val_loss: 0.3596 - val_accuracy: 0.8713\n",
            "Epoch 67/100\n",
            "857/857 [==============================] - 11s 12ms/step - loss: 0.7042 - accuracy: 0.7738 - val_loss: 0.4005 - val_accuracy: 0.8550\n",
            "Epoch 68/100\n",
            "857/857 [==============================] - 11s 12ms/step - loss: 0.6864 - accuracy: 0.7788 - val_loss: 0.4233 - val_accuracy: 0.8441\n",
            "Epoch 69/100\n",
            "857/857 [==============================] - 11s 12ms/step - loss: 0.6702 - accuracy: 0.7830 - val_loss: 0.3768 - val_accuracy: 0.8590\n",
            "Epoch 70/100\n",
            "857/857 [==============================] - 11s 12ms/step - loss: 0.6692 - accuracy: 0.7854 - val_loss: 0.3925 - val_accuracy: 0.8613\n",
            "Epoch 71/100\n",
            "857/857 [==============================] - 11s 12ms/step - loss: 0.6601 - accuracy: 0.7870 - val_loss: 0.3376 - val_accuracy: 0.8777\n",
            "Epoch 72/100\n",
            "857/857 [==============================] - 10s 12ms/step - loss: 0.6526 - accuracy: 0.7921 - val_loss: 0.3420 - val_accuracy: 0.8751\n",
            "Epoch 73/100\n",
            "857/857 [==============================] - 11s 12ms/step - loss: 0.6393 - accuracy: 0.7945 - val_loss: 0.3772 - val_accuracy: 0.8585\n",
            "Epoch 74/100\n",
            "857/857 [==============================] - 11s 12ms/step - loss: 0.6357 - accuracy: 0.7935 - val_loss: 0.3319 - val_accuracy: 0.8825\n",
            "Epoch 75/100\n",
            "857/857 [==============================] - 11s 12ms/step - loss: 0.6269 - accuracy: 0.8027 - val_loss: 0.3652 - val_accuracy: 0.8579\n",
            "Epoch 76/100\n",
            "857/857 [==============================] - 11s 12ms/step - loss: 0.6114 - accuracy: 0.8030 - val_loss: 0.3130 - val_accuracy: 0.8878\n",
            "Epoch 77/100\n",
            "857/857 [==============================] - 11s 12ms/step - loss: 0.6127 - accuracy: 0.8046 - val_loss: 0.3662 - val_accuracy: 0.8741\n",
            "Epoch 78/100\n",
            "857/857 [==============================] - 11s 12ms/step - loss: 0.5935 - accuracy: 0.8106 - val_loss: 0.2947 - val_accuracy: 0.8960\n",
            "Epoch 79/100\n",
            "857/857 [==============================] - 11s 12ms/step - loss: 0.6003 - accuracy: 0.8063 - val_loss: 0.3153 - val_accuracy: 0.8865\n",
            "Epoch 80/100\n",
            "857/857 [==============================] - 11s 12ms/step - loss: 0.5820 - accuracy: 0.8109 - val_loss: 0.3265 - val_accuracy: 0.8825\n",
            "Epoch 81/100\n",
            "857/857 [==============================] - 10s 12ms/step - loss: 0.5792 - accuracy: 0.8137 - val_loss: 0.3107 - val_accuracy: 0.8898\n",
            "Epoch 82/100\n",
            "857/857 [==============================] - 10s 12ms/step - loss: 0.5762 - accuracy: 0.8155 - val_loss: 0.3063 - val_accuracy: 0.8929\n",
            "Epoch 83/100\n",
            "857/857 [==============================] - 11s 12ms/step - loss: 0.5643 - accuracy: 0.8156 - val_loss: 0.2862 - val_accuracy: 0.8933\n",
            "Epoch 84/100\n",
            "857/857 [==============================] - 10s 12ms/step - loss: 0.5580 - accuracy: 0.8186 - val_loss: 0.3521 - val_accuracy: 0.8815\n",
            "Epoch 85/100\n",
            "857/857 [==============================] - 11s 12ms/step - loss: 0.5568 - accuracy: 0.8204 - val_loss: 0.2734 - val_accuracy: 0.9025\n",
            "Epoch 86/100\n",
            "857/857 [==============================] - 11s 12ms/step - loss: 0.5472 - accuracy: 0.8221 - val_loss: 0.2688 - val_accuracy: 0.9014\n",
            "Epoch 87/100\n",
            "857/857 [==============================] - 11s 12ms/step - loss: 0.5458 - accuracy: 0.8236 - val_loss: 0.2891 - val_accuracy: 0.8950\n",
            "Epoch 88/100\n",
            "857/857 [==============================] - 11s 12ms/step - loss: 0.5343 - accuracy: 0.8259 - val_loss: 0.3149 - val_accuracy: 0.8826\n",
            "Epoch 89/100\n",
            "857/857 [==============================] - 10s 12ms/step - loss: 0.5206 - accuracy: 0.8338 - val_loss: 0.2380 - val_accuracy: 0.9140\n",
            "Epoch 90/100\n",
            "857/857 [==============================] - 11s 12ms/step - loss: 0.5240 - accuracy: 0.8321 - val_loss: 0.2329 - val_accuracy: 0.9209\n",
            "Epoch 91/100\n",
            "857/857 [==============================] - 10s 12ms/step - loss: 0.5214 - accuracy: 0.8330 - val_loss: 0.2688 - val_accuracy: 0.9083\n",
            "Epoch 92/100\n",
            "857/857 [==============================] - 11s 12ms/step - loss: 0.5114 - accuracy: 0.8358 - val_loss: 0.3132 - val_accuracy: 0.8832\n",
            "Epoch 93/100\n",
            "857/857 [==============================] - 11s 12ms/step - loss: 0.5112 - accuracy: 0.8345 - val_loss: 0.2626 - val_accuracy: 0.9081\n",
            "Epoch 94/100\n",
            "857/857 [==============================] - 11s 12ms/step - loss: 0.5101 - accuracy: 0.8347 - val_loss: 0.2674 - val_accuracy: 0.9063\n",
            "Epoch 95/100\n",
            "857/857 [==============================] - 10s 12ms/step - loss: 0.4953 - accuracy: 0.8399 - val_loss: 0.2414 - val_accuracy: 0.9209\n",
            "Epoch 96/100\n",
            "857/857 [==============================] - 10s 12ms/step - loss: 0.4893 - accuracy: 0.8459 - val_loss: 0.2279 - val_accuracy: 0.9225\n",
            "Epoch 97/100\n",
            "857/857 [==============================] - 11s 12ms/step - loss: 0.4858 - accuracy: 0.8430 - val_loss: 0.2203 - val_accuracy: 0.9262\n",
            "Epoch 98/100\n",
            "857/857 [==============================] - 11s 12ms/step - loss: 0.4820 - accuracy: 0.8439 - val_loss: 0.2265 - val_accuracy: 0.9253\n",
            "Epoch 99/100\n",
            "857/857 [==============================] - 11s 12ms/step - loss: 0.4785 - accuracy: 0.8456 - val_loss: 0.2416 - val_accuracy: 0.9141\n",
            "Epoch 100/100\n",
            "857/857 [==============================] - 11s 12ms/step - loss: 0.4843 - accuracy: 0.8419 - val_loss: 0.2424 - val_accuracy: 0.9237\n",
            "225/225 [==============================] - 1s 3ms/step - loss: 119.6005 - accuracy: 0.7524\n"
          ]
        },
        {
          "output_type": "execute_result",
          "data": {
            "text/plain": [
              "[119.60047149658203, 0.7523703575134277]"
            ]
          },
          "metadata": {},
          "execution_count": 12
        }
      ]
    },
    {
      "cell_type": "code",
      "metadata": {
        "id": "_Q3Zpr46dsij",
        "colab": {
          "base_uri": "https://localhost:8080/",
          "height": 545
        },
        "outputId": "643d5307-528e-4714-a723-44c334daa5b5"
      },
      "source": [
        "# Plot the chart for accuracy and loss on both training and validation\n",
        "\n",
        "import matplotlib.pyplot as plt\n",
        "acc = history.history['accuracy']\n",
        "val_acc = history.history['val_accuracy']\n",
        "loss = history.history['loss']\n",
        "val_loss = history.history['val_loss']\n",
        "\n",
        "epochs = range(len(acc))\n",
        "\n",
        "plt.plot(epochs, acc, 'r', label='Training accuracy')\n",
        "plt.plot(epochs, val_acc, 'b', label='Validation accuracy')\n",
        "plt.title('Training and validation accuracy')\n",
        "plt.legend()\n",
        "plt.figure()\n",
        "\n",
        "plt.plot(epochs, loss, 'r', label='Training Loss')\n",
        "plt.plot(epochs, val_loss, 'b', label='Validation Loss')\n",
        "plt.title('Training and validation loss')\n",
        "plt.legend()\n",
        "\n",
        "plt.show()"
      ],
      "execution_count": null,
      "outputs": [
        {
          "output_type": "display_data",
          "data": {
            "image/png": "[encoded data removed]",
            "text/plain": [
              "<Figure size 432x288 with 1 Axes>"
            ]
          },
          "metadata": {
            "needs_background": "light"
          }
        },
        {
          "output_type": "display_data",
          "data": {
            "image/png": "[encoded data removed]",
            "text/plain": [
              "<Figure size 432x288 with 1 Axes>"
            ]
          },
          "metadata": {
            "needs_background": "light"
          }
        }
      ]
    },
    {
      "cell_type": "code",
      "source": [
        ""
      ],
      "metadata": {
        "id": "LK2URbE2lHSL"
      },
      "execution_count": null,
      "outputs": []
    }
  ]
}